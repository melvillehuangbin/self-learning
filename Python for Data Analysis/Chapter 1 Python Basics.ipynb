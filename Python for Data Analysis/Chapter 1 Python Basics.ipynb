{
 "cells": [
  {
   "cell_type": "markdown",
   "id": "ca85d1d4",
   "metadata": {},
   "source": [
    "This are some code snippets from the book `Python for Data Analysis`, for me to brush up on my Python and **further expand on my knowledge**"
   ]
  },
  {
   "cell_type": "markdown",
   "id": "15791768",
   "metadata": {},
   "source": [
    "# IPython Basics"
   ]
  },
  {
   "cell_type": "code",
   "execution_count": 1,
   "id": "28d9ddf4",
   "metadata": {},
   "outputs": [],
   "source": [
    "b = [1,2,3]"
   ]
  },
  {
   "cell_type": "markdown",
   "id": "15f3968e",
   "metadata": {},
   "source": [
    "- using `?` will display information of the python object\n",
    "- `??` displays source code of function"
   ]
  },
  {
   "cell_type": "code",
   "execution_count": 4,
   "id": "eea34641",
   "metadata": {},
   "outputs": [],
   "source": [
    "b?"
   ]
  },
  {
   "cell_type": "code",
   "execution_count": 5,
   "id": "98b6343e",
   "metadata": {},
   "outputs": [],
   "source": [
    "def f(x,y,z):\n",
    "    return x+y+z"
   ]
  },
  {
   "cell_type": "code",
   "execution_count": 6,
   "id": "a977fdd0",
   "metadata": {},
   "outputs": [],
   "source": [
    "f??"
   ]
  },
  {
   "cell_type": "markdown",
   "id": "84291a68",
   "metadata": {},
   "source": [
    "## Python Language Basics"
   ]
  },
  {
   "cell_type": "markdown",
   "id": "9343c813",
   "metadata": {},
   "source": [
    "## String formatting"
   ]
  },
  {
   "cell_type": "code",
   "execution_count": 10,
   "id": "3ccc3c1c",
   "metadata": {},
   "outputs": [
    {
     "data": {
      "text/plain": [
       "'1.35, test with string test and decimal 4'"
      ]
     },
     "execution_count": 10,
     "metadata": {},
     "output_type": "execute_result"
    }
   ],
   "source": [
    "# 0:.2f - 1st argument as float in 2dp\n",
    "# 1:s - 2nd argument as string\n",
    "# 2:d -3rd argument as integer\n",
    "template = '{0:.2f}, test with string {1:s} and decimal {2:d}'\n",
    "template.format(1.3452123123, 'test', 4)"
   ]
  },
  {
   "cell_type": "markdown",
   "id": "03e3dd07",
   "metadata": {},
   "source": [
    "## Ternary Expression\n",
    "ternary expressions allows for if-else block in single liners"
   ]
  },
  {
   "cell_type": "code",
   "execution_count": 12,
   "id": "b960dd2a",
   "metadata": {},
   "outputs": [
    {
     "data": {
      "text/plain": [
       "'None'"
      ]
     },
     "execution_count": 12,
     "metadata": {},
     "output_type": "execute_result"
    }
   ],
   "source": [
    "x = 2\n",
    "'Nothing Else' if x == 1 else 'None'"
   ]
  },
  {
   "cell_type": "markdown",
   "id": "f49c8e4b",
   "metadata": {},
   "source": [
    "## Tuples\n",
    "immutable objects in python"
   ]
  },
  {
   "cell_type": "code",
   "execution_count": 14,
   "id": "5cc14609",
   "metadata": {},
   "outputs": [
    {
     "data": {
      "text/plain": [
       "('t', 'u', 'p', 'l', 'e', ' ', 'r', 'o', 'c', 'k', 's')"
      ]
     },
     "execution_count": 14,
     "metadata": {},
     "output_type": "execute_result"
    }
   ],
   "source": [
    "# example: converting string to tuple\n",
    "test_string = 'tuple rocks'\n",
    "tuple(test_string)"
   ]
  },
  {
   "cell_type": "code",
   "execution_count": 17,
   "id": "b826bb22",
   "metadata": {},
   "outputs": [
    {
     "data": {
      "text/plain": [
       "4"
      ]
     },
     "execution_count": 17,
     "metadata": {},
     "output_type": "execute_result"
    }
   ],
   "source": [
    "# unpacking tuples: possible to assign variables to each element in tuple\n",
    "tup = (4,5,6)\n",
    "a, b, c = tup\n",
    "a"
   ]
  },
  {
   "cell_type": "code",
   "execution_count": 20,
   "id": "a8eb4b59",
   "metadata": {},
   "outputs": [
    {
     "name": "stdout",
     "output_type": "stream",
     "text": [
      "before swap a=1, b=2\n",
      "after swap a=2, b=1\n"
     ]
    }
   ],
   "source": [
    "# value swap between variables is done using tuples\n",
    "a = 1\n",
    "b = 2\n",
    "print('before swap a={0}, b={1}'.format(a,b))\n",
    "b,a = a,b\n",
    "print('after swap a={0}, b={1}'.format(a,b))"
   ]
  },
  {
   "cell_type": "code",
   "execution_count": 21,
   "id": "4134f10b",
   "metadata": {},
   "outputs": [
    {
     "name": "stdout",
     "output_type": "stream",
     "text": [
      "a=1, b=2, c=3\n",
      "a=4, b=5, c=6\n",
      "a=7, b=8, c=9\n"
     ]
    }
   ],
   "source": [
    "# iterating and unpacking over sequences\n",
    "seq = [(1,2,3), (4,5,6), (7,8,9)]\n",
    "for a,b,c in seq:\n",
    "    print('a={0}, b={1}, c={2}'.format(a,b,c))"
   ]
  },
  {
   "cell_type": "code",
   "execution_count": 29,
   "id": "ccf6f03d",
   "metadata": {},
   "outputs": [
    {
     "name": "stdout",
     "output_type": "stream",
     "text": [
      "1 2 [3, 4, 5]\n"
     ]
    }
   ],
   "source": [
    "# using *_ to unpack rest of the values in a tuple, _ will then be a list of the rest of the values of the tuple\n",
    "tup = 1,2,3,4,5\n",
    "a, b, *_ = tup\n",
    "print(a,b,_)"
   ]
  },
  {
   "cell_type": "markdown",
   "id": "4485128a",
   "metadata": {},
   "source": [
    "## Lists"
   ]
  },
  {
   "cell_type": "code",
   "execution_count": 31,
   "id": "749b5aeb",
   "metadata": {},
   "outputs": [
    {
     "name": "stdout",
     "output_type": "stream",
     "text": [
      "0: a=test, b=1\n",
      "1: a=test, b=2\n",
      "2: a=test, b=3\n"
     ]
    }
   ],
   "source": [
    "# using zip with enumerate\n",
    "list_1 = ['test', 'test', 'test']\n",
    "list_2 = [1, 2, 3]\n",
    "for i, (a,b) in enumerate(zip(list_1, list_2)):\n",
    "    print('{0}: a={1}, b={2}'.format(i, a, b))"
   ]
  },
  {
   "cell_type": "code",
   "execution_count": 37,
   "id": "33f7f74e",
   "metadata": {},
   "outputs": [
    {
     "name": "stdout",
     "output_type": "stream",
     "text": [
      "('test', 'test', 'test') (1, 2, 3)\n"
     ]
    }
   ],
   "source": [
    "# cleverly unpacking a zip\n",
    "zipped_list = list(zip(list_1, list_2))\n",
    "_1, _2 = zip(*zipped_list)\n",
    "print(_1, _2)"
   ]
  },
  {
   "cell_type": "code",
   "execution_count": null,
   "id": "1450a52c",
   "metadata": {},
   "outputs": [],
   "source": []
  }
 ],
 "metadata": {
  "kernelspec": {
   "display_name": "Python 3",
   "language": "python",
   "name": "python3"
  },
  "language_info": {
   "codemirror_mode": {
    "name": "ipython",
    "version": 3
   },
   "file_extension": ".py",
   "mimetype": "text/x-python",
   "name": "python",
   "nbconvert_exporter": "python",
   "pygments_lexer": "ipython3",
   "version": "3.8.8"
  }
 },
 "nbformat": 4,
 "nbformat_minor": 5
}
