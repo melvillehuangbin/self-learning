{
 "cells": [
  {
   "cell_type": "markdown",
   "id": "8ca12cde",
   "metadata": {},
   "source": [
    "# Learning outcomes\n",
    "\n",
    "1. check time usage for multiplying list of million numbers by 2 between numpy and normal list\n",
    "2. create ndarrays (np.array, ndim, shape, dtype, zeros, ones, empty)\n",
    "3. checking datatype, casting datatype (int, float, string)\n",
    "4. do arithmetic with numpy arrays [+, - *, /, **, boolean(<, >, ==, <=, >=)]\n",
    "5. do slicing and indexing on numpy arrays (2-d, 3-d arrays), explcitly copy arrays\n",
    "6. indexing with slices"
   ]
  },
  {
   "cell_type": "code",
   "execution_count": 1,
   "id": "b7209140",
   "metadata": {},
   "outputs": [],
   "source": [
    "import numpy as np"
   ]
  },
  {
   "cell_type": "markdown",
   "id": "53db39b3",
   "metadata": {},
   "source": [
    "## Introduction"
   ]
  },
  {
   "cell_type": "code",
   "execution_count": 8,
   "id": "ab0cad60",
   "metadata": {},
   "outputs": [
    {
     "name": "stdout",
     "output_type": "stream",
     "text": [
      "[[  7.32613947  -3.25889746   8.66962338]\n",
      " [-15.31184347 -12.64345439  11.75299801]]\n",
      "[[ 1.46522789 -0.65177949  1.73392468]\n",
      " [-3.06236869 -2.52869088  2.3505996 ]]\n",
      "(2, 3) float64\n"
     ]
    }
   ],
   "source": [
    "# generate random numpy array of  shape (2,3)\n",
    "# multiply by 10, addition\n",
    "# check shape\n",
    "# check data type\n",
    "\n",
    "data = np.random.randn(2,3)\n",
    "print(data * 10)\n",
    "print(data + data)\n",
    "print(data.shape, data.dtype)"
   ]
  },
  {
   "cell_type": "markdown",
   "id": "04848e8d",
   "metadata": {},
   "source": [
    "## Creating ndarrays (n-dimensional arrays)\n",
    "\n",
    "generally, creating ndarrays takes in the:\n",
    "- no. of `rows`\n",
    "- no. of `columns`\n",
    "- no. of `\"matrixes\"` to create"
   ]
  },
  {
   "cell_type": "code",
   "execution_count": 9,
   "id": "f79a8e8a",
   "metadata": {},
   "outputs": [
    {
     "data": {
      "text/plain": [
       "array([6. , 7.5, 8. , 0. , 1. ])"
      ]
     },
     "execution_count": 9,
     "metadata": {},
     "output_type": "execute_result"
    }
   ],
   "source": [
    "# create ndarray from python list\n",
    "data1 = [6, 7.5, 8 , 0, 1]\n",
    "arr1 = np.array(data1)\n",
    "arr1"
   ]
  },
  {
   "cell_type": "code",
   "execution_count": 11,
   "id": "4515d78c",
   "metadata": {},
   "outputs": [
    {
     "data": {
      "text/plain": [
       "(array([[1, 2, 3, 4],\n",
       "        [5, 6, 7, 8]]),\n",
       " (2, 4))"
      ]
     },
     "execution_count": 11,
     "metadata": {},
     "output_type": "execute_result"
    }
   ],
   "source": [
    "# create ndarray from nested list, numpy interprets the shape\n",
    "data2 = [[1,2,3,4], [5,6,7,8]]\n",
    "arr2 = np.array(data2)\n",
    "arr2, arr2.shape"
   ]
  },
  {
   "cell_type": "code",
   "execution_count": 14,
   "id": "2411b807",
   "metadata": {},
   "outputs": [
    {
     "data": {
      "text/plain": [
       "array([[[0., 0., 0., 0.],\n",
       "        [0., 0., 0., 0.],\n",
       "        [0., 0., 0., 0.]],\n",
       "\n",
       "       [[0., 0., 0., 0.],\n",
       "        [0., 0., 0., 0.],\n",
       "        [0., 0., 0., 0.]]])"
      ]
     },
     "execution_count": 14,
     "metadata": {},
     "output_type": "execute_result"
    }
   ],
   "source": [
    "# create array of zeroes\n",
    "np.zeros((2,3,4))"
   ]
  },
  {
   "cell_type": "code",
   "execution_count": 17,
   "id": "2cfe779a",
   "metadata": {},
   "outputs": [
    {
     "data": {
      "text/plain": [
       "(array([1., 1., 1., 1., 1., 1., 1., 1., 1., 1.]),\n",
       " array([[1., 1., 1.],\n",
       "        [1., 1., 1.],\n",
       "        [1., 1., 1.],\n",
       "        [1., 1., 1.],\n",
       "        [1., 1., 1.],\n",
       "        [1., 1., 1.],\n",
       "        [1., 1., 1.],\n",
       "        [1., 1., 1.],\n",
       "        [1., 1., 1.],\n",
       "        [1., 1., 1.]]),\n",
       " array([[[1., 1.],\n",
       "         [1., 1.]]]))"
      ]
     },
     "execution_count": 17,
     "metadata": {},
     "output_type": "execute_result"
    }
   ],
   "source": [
    "# create array of ones\n",
    "np.ones(10), \\\n",
    "np.ones((10,3)) , \\\n",
    "np.ones((1,2,2))"
   ]
  },
  {
   "cell_type": "code",
   "execution_count": 22,
   "id": "6184f9c1",
   "metadata": {},
   "outputs": [
    {
     "data": {
      "text/plain": [
       "array([0, 1, 2, 3, 4, 5, 6, 7, 8, 9])"
      ]
     },
     "execution_count": 22,
     "metadata": {},
     "output_type": "execute_result"
    }
   ],
   "source": [
    "# create array of range using arange\n",
    "np.arange(10)"
   ]
  },
  {
   "cell_type": "code",
   "execution_count": 24,
   "id": "b9fb1c40",
   "metadata": {},
   "outputs": [
    {
     "data": {
      "text/plain": [
       "array([[9.48032341e-312, 6.27463370e-322],\n",
       "       [0.00000000e+000, 0.00000000e+000],\n",
       "       [7.56587583e-307, 5.30276956e+180],\n",
       "       [6.74640243e-067, 4.57399874e-071],\n",
       "       [4.46156275e-086, 3.35809400e-143],\n",
       "       [6.01433264e+175, 6.93885958e+218],\n",
       "       [5.56218858e+180, 3.94356143e+180],\n",
       "       [1.54673988e-075, 2.21549880e-056],\n",
       "       [1.25581128e-075, 8.30112254e-067],\n",
       "       [5.50622817e-144, 1.50008929e+248]])"
      ]
     },
     "execution_count": 24,
     "metadata": {},
     "output_type": "execute_result"
    }
   ],
   "source": [
    "# create empty ndarray\n",
    "np.empty((10,2))"
   ]
  },
  {
   "cell_type": "markdown",
   "id": "731b7cf8",
   "metadata": {},
   "source": [
    "## Data types for ndarrays"
   ]
  },
  {
   "cell_type": "code",
   "execution_count": 35,
   "id": "8315eecf",
   "metadata": {},
   "outputs": [],
   "source": [
    "# passing dtype as argument when creating ndarray\n",
    "arr1 = np.array([1,2,3], dtype=np.float64)"
   ]
  },
  {
   "cell_type": "code",
   "execution_count": 37,
   "id": "48e08c00",
   "metadata": {},
   "outputs": [
    {
     "data": {
      "text/plain": [
       "dtype('int32')"
      ]
     },
     "execution_count": 37,
     "metadata": {},
     "output_type": "execute_result"
    }
   ],
   "source": [
    "# inferring dtype\n",
    "arr2 = np.array([i for i in range(1,6)])\n",
    "arr2.dtype"
   ]
  },
  {
   "cell_type": "code",
   "execution_count": 39,
   "id": "57e2a4c8",
   "metadata": {},
   "outputs": [
    {
     "data": {
      "text/plain": [
       "array([1., 2., 3., 4., 5.])"
      ]
     },
     "execution_count": 39,
     "metadata": {},
     "output_type": "execute_result"
    }
   ],
   "source": [
    "# casting dtypes using astype\n",
    "arr2.astype(np.float64)"
   ]
  },
  {
   "cell_type": "code",
   "execution_count": 40,
   "id": "5d85bb3a",
   "metadata": {},
   "outputs": [
    {
     "data": {
      "text/plain": [
       "array([1., 2., 3., 4., 5.])"
      ]
     },
     "execution_count": 40,
     "metadata": {},
     "output_type": "execute_result"
    }
   ],
   "source": [
    "# casting dtypes using another arrays dtype\n",
    "arr2.astype(arr1.dtype)"
   ]
  },
  {
   "cell_type": "code",
   "execution_count": 42,
   "id": "17804e48",
   "metadata": {},
   "outputs": [
    {
     "data": {
      "text/plain": [
       "array([b'1', b'2', b'3', b'4', b'5'], dtype='|S11')"
      ]
     },
     "execution_count": 42,
     "metadata": {},
     "output_type": "execute_result"
    }
   ],
   "source": [
    "# converting to string type: becareful with this conversion due to truncation of values\n",
    "arr2.astype(np.string_)"
   ]
  },
  {
   "cell_type": "markdown",
   "id": "483272e7",
   "metadata": {},
   "source": [
    "## Arithmetic with numpy arrays\n",
    "\n",
    "ndarrays are useful because arithmetics can be done without for loops on each element"
   ]
  },
  {
   "cell_type": "code",
   "execution_count": 56,
   "id": "09f7f000",
   "metadata": {
    "collapsed": true
   },
   "outputs": [
    {
     "data": {
      "text/plain": [
       "array([[1, 2, 3],\n",
       "       [4, 5, 6]], dtype=int64)"
      ]
     },
     "execution_count": 56,
     "metadata": {},
     "output_type": "execute_result"
    }
   ],
   "source": [
    "arr1 = np.array([[1,2,3], [4,5,6]], dtype=np.int64)\n",
    "arr1"
   ]
  },
  {
   "cell_type": "code",
   "execution_count": 45,
   "id": "25749da8",
   "metadata": {
    "collapsed": true
   },
   "outputs": [
    {
     "data": {
      "text/plain": [
       "array([[0, 0, 0],\n",
       "       [0, 0, 0]])"
      ]
     },
     "execution_count": 45,
     "metadata": {},
     "output_type": "execute_result"
    }
   ],
   "source": [
    "arr1 - arr1"
   ]
  },
  {
   "cell_type": "code",
   "execution_count": 46,
   "id": "f496a0ac",
   "metadata": {
    "collapsed": true
   },
   "outputs": [
    {
     "data": {
      "text/plain": [
       "array([[ 2,  4,  6],\n",
       "       [ 8, 10, 12]])"
      ]
     },
     "execution_count": 46,
     "metadata": {},
     "output_type": "execute_result"
    }
   ],
   "source": [
    "arr1 * 2"
   ]
  },
  {
   "cell_type": "code",
   "execution_count": 49,
   "id": "53abd236",
   "metadata": {
    "collapsed": true
   },
   "outputs": [
    {
     "data": {
      "text/plain": [
       "array([[1.        , 0.5       , 0.33333333],\n",
       "       [0.25      , 0.2       , 0.16666667]])"
      ]
     },
     "execution_count": 49,
     "metadata": {},
     "output_type": "execute_result"
    }
   ],
   "source": [
    "1 / arr1"
   ]
  },
  {
   "cell_type": "code",
   "execution_count": 50,
   "id": "cae813f5",
   "metadata": {
    "collapsed": true
   },
   "outputs": [
    {
     "data": {
      "text/plain": [
       "array([[1.        , 1.41421356, 1.73205081],\n",
       "       [2.        , 2.23606798, 2.44948974]])"
      ]
     },
     "execution_count": 50,
     "metadata": {},
     "output_type": "execute_result"
    }
   ],
   "source": [
    "arr1 ** 0.5"
   ]
  },
  {
   "cell_type": "code",
   "execution_count": 60,
   "id": "9e77839b",
   "metadata": {
    "collapsed": true
   },
   "outputs": [],
   "source": [
    "arr2 = np.array([[1,3,3], [4,6,6]], dtype=np.float64)"
   ]
  },
  {
   "cell_type": "code",
   "execution_count": 62,
   "id": "eb871d26",
   "metadata": {
    "collapsed": true
   },
   "outputs": [
    {
     "data": {
      "text/plain": [
       "array([[ True, False,  True],\n",
       "       [ True, False,  True]])"
      ]
     },
     "execution_count": 62,
     "metadata": {},
     "output_type": "execute_result"
    }
   ],
   "source": [
    "# one thing to note here is the data type, int can be compared with float, numeric types cannot be compared with string types\n",
    "arr1 == arr2"
   ]
  },
  {
   "cell_type": "markdown",
   "id": "7c125d38",
   "metadata": {},
   "source": [
    "## Basic Indexing and slicing"
   ]
  },
  {
   "cell_type": "code",
   "execution_count": 67,
   "id": "c30e7898",
   "metadata": {},
   "outputs": [
    {
     "data": {
      "text/plain": [
       "array([ 0,  1,  2,  3,  4, 42, 42, 42,  8,  9])"
      ]
     },
     "execution_count": 67,
     "metadata": {},
     "output_type": "execute_result"
    }
   ],
   "source": [
    "arr = np.arange(10)\n",
    "# indexing\n",
    "arr[5]\n",
    "\n",
    "# slicing\n",
    "arr[5:8]\n",
    "\n",
    "# assigning values propagates array\n",
    "arr[5:8] = 42\n",
    "arr"
   ]
  },
  {
   "cell_type": "code",
   "execution_count": 77,
   "id": "ad33d311",
   "metadata": {},
   "outputs": [],
   "source": [
    "# numpy does not explicitly do a copy on its array\n",
    "arr_slice = arr[5:8]\n",
    "\n",
    "# assigning values mutates original array\n",
    "arr_slice = 42\n",
    "arr"
   ]
  },
  {
   "cell_type": "code",
   "execution_count": 78,
   "id": "714752fe",
   "metadata": {},
   "outputs": [
    {
     "data": {
      "text/plain": [
       "array([    0,     1,     2,     3,     4,    42, 12345,    42,     8,\n",
       "           9])"
      ]
     },
     "execution_count": 78,
     "metadata": {},
     "output_type": "execute_result"
    }
   ],
   "source": [
    "arr_slice[1] = 12345\n",
    "arr"
   ]
  },
  {
   "cell_type": "code",
   "execution_count": 80,
   "id": "cd341a12",
   "metadata": {},
   "outputs": [
    {
     "data": {
      "text/plain": [
       "3"
      ]
     },
     "execution_count": 80,
     "metadata": {},
     "output_type": "execute_result"
    }
   ],
   "source": [
    "# slicing 2d arrays\n",
    "arr2d = np.array([[1, 2, 3], [4, 5, 6], [7, 8, 9]])\n",
    "\n",
    "# easy to think of it as rows, columns\n",
    "# first row, third column\n",
    "arr2d[0, 2]\n",
    "arr2d[0][2]"
   ]
  },
  {
   "cell_type": "code",
   "execution_count": 96,
   "id": "3f25222c",
   "metadata": {},
   "outputs": [
    {
     "data": {
      "text/plain": [
       "array([[[ 1,  2,  3],\n",
       "        [ 4,  5,  6]],\n",
       "\n",
       "       [[ 7,  8,  9],\n",
       "        [10, 11, 12]]])"
      ]
     },
     "execution_count": 96,
     "metadata": {},
     "output_type": "execute_result"
    }
   ],
   "source": [
    "# slicing 3d arrays\n",
    "arr3d = np.array([[[1, 2, 3], [4, 5, 6]], [[7, 8, 9], [10, 11, 12]]])\n",
    "arr3d"
   ]
  },
  {
   "cell_type": "code",
   "execution_count": 90,
   "id": "20b6a8d0",
   "metadata": {},
   "outputs": [
    {
     "data": {
      "text/plain": [
       "array([4, 5, 6])"
      ]
     },
     "execution_count": 90,
     "metadata": {},
     "output_type": "execute_result"
    }
   ],
   "source": [
    "# first \"table\", row 1\n",
    "arr3d[0, 1]"
   ]
  },
  {
   "cell_type": "code",
   "execution_count": 97,
   "id": "cb7710f1",
   "metadata": {},
   "outputs": [
    {
     "data": {
      "text/plain": [
       "array([[[ 1,  2,  3],\n",
       "        [ 4,  5,  6]],\n",
       "\n",
       "       [[ 7,  8,  9],\n",
       "        [10, 11, 12]]])"
      ]
     },
     "execution_count": 97,
     "metadata": {},
     "output_type": "execute_result"
    }
   ],
   "source": [
    "# getting a copy of original values from 3d array\n",
    "old_values = arr3d[0].copy()\n",
    "arr3d[0] = 42\n",
    "arr3d[0] = old_values\n",
    "arr3d"
   ]
  },
  {
   "cell_type": "code",
   "execution_count": 100,
   "id": "b9bc07f1",
   "metadata": {},
   "outputs": [
    {
     "data": {
      "text/plain": [
       "array([7, 8, 9])"
      ]
     },
     "execution_count": 100,
     "metadata": {},
     "output_type": "execute_result"
    }
   ],
   "source": [
    "# 2nd \"table\", 1st row\n",
    "arr3d[1, 0]"
   ]
  },
  {
   "cell_type": "code",
   "execution_count": 101,
   "id": "edf61093",
   "metadata": {},
   "outputs": [
    {
     "data": {
      "text/plain": [
       "array([7, 8, 9])"
      ]
     },
     "execution_count": 101,
     "metadata": {},
     "output_type": "execute_result"
    }
   ],
   "source": [
    "# creating a view of 3d array, 2nd \"table\"\n",
    "x = arr3d[1]\n",
    "x[0] # view of 2nd table of first row of 3d array"
   ]
  },
  {
   "cell_type": "markdown",
   "id": "bc5a9d0f",
   "metadata": {},
   "source": [
    "## Indexing with slices"
   ]
  },
  {
   "cell_type": "code",
   "execution_count": 105,
   "id": "c81cfae7",
   "metadata": {},
   "outputs": [
    {
     "data": {
      "text/plain": [
       "array([1, 2, 3, 4, 5])"
      ]
     },
     "execution_count": 105,
     "metadata": {},
     "output_type": "execute_result"
    }
   ],
   "source": [
    "# slice 1d array to get elements indexing from 1 to 5\n",
    "arr = np.arange(10)\n",
    "arr[1:6]"
   ]
  },
  {
   "cell_type": "code",
   "execution_count": 114,
   "id": "6f8adb75",
   "metadata": {},
   "outputs": [
    {
     "data": {
      "text/plain": [
       "array([[1, 2, 3],\n",
       "       [4, 5, 6],\n",
       "       [7, 8, 9]])"
      ]
     },
     "execution_count": 114,
     "metadata": {},
     "output_type": "execute_result"
    }
   ],
   "source": [
    "arr2d"
   ]
  },
  {
   "cell_type": "code",
   "execution_count": 107,
   "id": "7e3906d5",
   "metadata": {},
   "outputs": [
    {
     "data": {
      "text/plain": [
       "array([[1, 2, 3],\n",
       "       [4, 5, 6]])"
      ]
     },
     "execution_count": 107,
     "metadata": {},
     "output_type": "execute_result"
    }
   ],
   "source": [
    "# slice 2d array to get up to 2nd row\n",
    "arr2d\n",
    "arr2d[:2]"
   ]
  },
  {
   "cell_type": "code",
   "execution_count": 108,
   "id": "28a7a5be",
   "metadata": {},
   "outputs": [
    {
     "data": {
      "text/plain": [
       "array([[2, 3],\n",
       "       [5, 6]])"
      ]
     },
     "execution_count": 108,
     "metadata": {},
     "output_type": "execute_result"
    }
   ],
   "source": [
    "# slice 2d array to get up to 2nd row, and 2nd column onwards\n",
    "arr2d[:2, 1:]"
   ]
  },
  {
   "cell_type": "code",
   "execution_count": 110,
   "id": "66151f27",
   "metadata": {},
   "outputs": [
    {
     "data": {
      "text/plain": [
       "array([4, 5])"
      ]
     },
     "execution_count": 110,
     "metadata": {},
     "output_type": "execute_result"
    }
   ],
   "source": [
    "# slice 2d array to get 2nd row, and up to 2nd column\n",
    "arr2d[1, :2]"
   ]
  },
  {
   "cell_type": "code",
   "execution_count": 111,
   "id": "18444225",
   "metadata": {},
   "outputs": [
    {
     "data": {
      "text/plain": [
       "array([3, 6])"
      ]
     },
     "execution_count": 111,
     "metadata": {},
     "output_type": "execute_result"
    }
   ],
   "source": [
    "# slice 2d array to get up to 2nd row, and 3rd column\n",
    "arr2d[:2, 2]"
   ]
  },
  {
   "cell_type": "code",
   "execution_count": 113,
   "id": "ad07f0fd",
   "metadata": {},
   "outputs": [
    {
     "data": {
      "text/plain": [
       "array([[1],\n",
       "       [4],\n",
       "       [7]])"
      ]
     },
     "execution_count": 113,
     "metadata": {},
     "output_type": "execute_result"
    }
   ],
   "source": [
    "# get all rows, up to first column\n",
    "arr2d[:, :1]"
   ]
  },
  {
   "cell_type": "code",
   "execution_count": 116,
   "id": "77f85e2a",
   "metadata": {},
   "outputs": [
    {
     "data": {
      "text/plain": [
       "array([[1, 0, 0],\n",
       "       [4, 0, 0],\n",
       "       [7, 8, 9]])"
      ]
     },
     "execution_count": 116,
     "metadata": {},
     "output_type": "execute_result"
    }
   ],
   "source": [
    "# assign values to a sliced view of up to 2nd row, 2nd column onwards\n",
    "arr2d[:2, 1:] = 0\n",
    "arr2d"
   ]
  },
  {
   "cell_type": "markdown",
   "id": "bbb91c87",
   "metadata": {},
   "source": [
    "## Boolean Indexing"
   ]
  },
  {
   "cell_type": "code",
   "execution_count": 138,
   "id": "15060366",
   "metadata": {},
   "outputs": [
    {
     "data": {
      "text/plain": [
       "array([[-0.42463581, -0.18134816,  0.63041968,  0.21258265],\n",
       "       [ 0.38212256, -0.83348734,  0.42088411, -0.54690572]])"
      ]
     },
     "execution_count": 138,
     "metadata": {},
     "output_type": "execute_result"
    }
   ],
   "source": [
    "# using a 1-d boolean array to index a 2d array\n",
    "# the 1-d boolean array shape should be the same as the shape of axis you are indexing\n",
    "# for e.g. each element in below names 1-d array will represent a row in the 2-d data array\n",
    "names = np.array(['Bob', 'Joe', 'Will', 'Bob', 'Will', 'Joe', 'Joe'])\n",
    "data = np.random.randn(7,4)\n",
    "\n",
    "# using names == 'Bob', it gives only rows 1 (0), and 4 (3) \n",
    "data[names == 'Bob']"
   ]
  },
  {
   "cell_type": "code",
   "execution_count": 121,
   "id": "220e05b0",
   "metadata": {},
   "outputs": [
    {
     "data": {
      "text/plain": [
       "array([[ 1.30573576, -0.88909004,  2.49942848,  0.05047768],\n",
       "       [-1.22975819,  0.9658055 , -0.7517069 ,  1.97226735],\n",
       "       [ 0.6990872 , -0.15195539,  0.44330737,  0.39206532],\n",
       "       [ 0.11028854, -1.53991342, -0.89928461,  0.25383515],\n",
       "       [ 0.23802579, -2.32678251,  1.06519825,  0.41867376],\n",
       "       [ 0.40257791,  1.98849158, -0.89028077, -0.2962391 ],\n",
       "       [ 0.33686579, -0.23039406,  0.77176592,  1.1677816 ]])"
      ]
     },
     "execution_count": 121,
     "metadata": {},
     "output_type": "execute_result"
    }
   ],
   "source": [
    "data"
   ]
  },
  {
   "cell_type": "code",
   "execution_count": 119,
   "id": "fc56b437",
   "metadata": {},
   "outputs": [
    {
     "data": {
      "text/plain": [
       "array([ True, False, False,  True, False, False, False])"
      ]
     },
     "execution_count": 119,
     "metadata": {},
     "output_type": "execute_result"
    }
   ],
   "source": [
    "names == 'Bob'"
   ]
  },
  {
   "cell_type": "code",
   "execution_count": 120,
   "id": "747e251e",
   "metadata": {},
   "outputs": [
    {
     "data": {
      "text/plain": [
       "array([[ 2.49942848,  0.05047768],\n",
       "       [-0.89928461,  0.25383515]])"
      ]
     },
     "execution_count": 120,
     "metadata": {},
     "output_type": "execute_result"
    }
   ],
   "source": [
    "# boolean indexing rows, get from column 3 onwards\n",
    "data[names == 'Bob', 2:]"
   ]
  },
  {
   "cell_type": "code",
   "execution_count": 122,
   "id": "15f60a6b",
   "metadata": {},
   "outputs": [
    {
     "data": {
      "text/plain": [
       "array([0.05047768, 0.25383515])"
      ]
     },
     "execution_count": 122,
     "metadata": {},
     "output_type": "execute_result"
    }
   ],
   "source": [
    "# boolean indexing rows, get column 4\n",
    "data[names == 'Bob', 3]"
   ]
  },
  {
   "cell_type": "code",
   "execution_count": 123,
   "id": "d875f8b0",
   "metadata": {},
   "outputs": [
    {
     "name": "stdout",
     "output_type": "stream",
     "text": [
      "[False  True  True False  True  True  True]\n"
     ]
    },
    {
     "data": {
      "text/plain": [
       "array([[-1.22975819,  0.9658055 , -0.7517069 ,  1.97226735],\n",
       "       [ 0.6990872 , -0.15195539,  0.44330737,  0.39206532],\n",
       "       [ 0.23802579, -2.32678251,  1.06519825,  0.41867376],\n",
       "       [ 0.40257791,  1.98849158, -0.89028077, -0.2962391 ],\n",
       "       [ 0.33686579, -0.23039406,  0.77176592,  1.1677816 ]])"
      ]
     },
     "execution_count": 123,
     "metadata": {},
     "output_type": "execute_result"
    }
   ],
   "source": [
    "# negate using !=, ~\n",
    "print(names != 'Bob')\n",
    "data[names != 'Bob']"
   ]
  },
  {
   "cell_type": "code",
   "execution_count": 125,
   "id": "810837ea",
   "metadata": {},
   "outputs": [
    {
     "data": {
      "text/plain": [
       "array([[-1.22975819,  0.9658055 , -0.7517069 ,  1.97226735],\n",
       "       [ 0.6990872 , -0.15195539,  0.44330737,  0.39206532],\n",
       "       [ 0.23802579, -2.32678251,  1.06519825,  0.41867376],\n",
       "       [ 0.40257791,  1.98849158, -0.89028077, -0.2962391 ],\n",
       "       [ 0.33686579, -0.23039406,  0.77176592,  1.1677816 ]])"
      ]
     },
     "execution_count": 125,
     "metadata": {},
     "output_type": "execute_result"
    }
   ],
   "source": [
    "data[~(names == 'Bob')]"
   ]
  },
  {
   "cell_type": "code",
   "execution_count": 127,
   "id": "83ce2321",
   "metadata": {},
   "outputs": [
    {
     "data": {
      "text/plain": [
       "array([[-1.22975819,  0.9658055 , -0.7517069 ,  1.97226735],\n",
       "       [ 0.6990872 , -0.15195539,  0.44330737,  0.39206532],\n",
       "       [ 0.23802579, -2.32678251,  1.06519825,  0.41867376],\n",
       "       [ 0.40257791,  1.98849158, -0.89028077, -0.2962391 ],\n",
       "       [ 0.33686579, -0.23039406,  0.77176592,  1.1677816 ]])"
      ]
     },
     "execution_count": 127,
     "metadata": {},
     "output_type": "execute_result"
    }
   ],
   "source": [
    "# creating a 'filter' using a variable\n",
    "cond = names == 'Bob'\n",
    "data[~cond]"
   ]
  },
  {
   "cell_type": "code",
   "execution_count": 129,
   "id": "65a5801a",
   "metadata": {},
   "outputs": [
    {
     "data": {
      "text/plain": [
       "array([[ 1.30573576, -0.88909004,  2.49942848,  0.05047768],\n",
       "       [ 0.6990872 , -0.15195539,  0.44330737,  0.39206532],\n",
       "       [ 0.11028854, -1.53991342, -0.89928461,  0.25383515],\n",
       "       [ 0.23802579, -2.32678251,  1.06519825,  0.41867376]])"
      ]
     },
     "execution_count": 129,
     "metadata": {},
     "output_type": "execute_result"
    }
   ],
   "source": [
    "# and, or in filters\n",
    "mask = (names == 'Bob') | (names == 'Will')\n",
    "data[mask]"
   ]
  },
  {
   "cell_type": "code",
   "execution_count": 132,
   "id": "f48f2a61",
   "metadata": {},
   "outputs": [
    {
     "data": {
      "text/plain": [
       "array([[1.30573576, 0.        , 2.49942848, 0.05047768],\n",
       "       [0.        , 0.9658055 , 0.        , 1.97226735],\n",
       "       [0.6990872 , 0.        , 0.44330737, 0.39206532],\n",
       "       [0.11028854, 0.        , 0.        , 0.25383515],\n",
       "       [0.23802579, 0.        , 1.06519825, 0.41867376],\n",
       "       [0.40257791, 1.98849158, 0.        , 0.        ],\n",
       "       [0.33686579, 0.        , 0.77176592, 1.1677816 ]])"
      ]
     },
     "execution_count": 132,
     "metadata": {},
     "output_type": "execute_result"
    }
   ],
   "source": [
    "# using 2-d arrays to boolean index 2-d arrays and assigning values\n",
    "data[data < 0] = 0\n",
    "data"
   ]
  },
  {
   "cell_type": "code",
   "execution_count": 139,
   "id": "b273939f",
   "metadata": {},
   "outputs": [
    {
     "data": {
      "text/plain": [
       "array([[ 7.        ,  7.        ,  7.        ,  7.        ],\n",
       "       [ 0.30666845, -1.54223474, -0.12703713,  0.59766009],\n",
       "       [ 7.        ,  7.        ,  7.        ,  7.        ],\n",
       "       [ 7.        ,  7.        ,  7.        ,  7.        ],\n",
       "       [ 7.        ,  7.        ,  7.        ,  7.        ],\n",
       "       [ 0.8266089 ,  0.07233187,  2.13627856,  2.21138349],\n",
       "       [ 0.4419279 , -0.12498884,  0.57992766,  0.07536175]])"
      ]
     },
     "execution_count": 139,
     "metadata": {},
     "output_type": "execute_result"
    }
   ],
   "source": [
    "# using boolean 1-d array to boolean index 2-d arrays and assigning values\n",
    "data[names != 'Joe'] = 7\n",
    "data"
   ]
  },
  {
   "cell_type": "markdown",
   "id": "4cd5dacb",
   "metadata": {},
   "source": [
    "## Fancy Indexing"
   ]
  },
  {
   "cell_type": "code",
   "execution_count": 157,
   "id": "34baf8dd",
   "metadata": {},
   "outputs": [
    {
     "data": {
      "text/plain": [
       "array([[0., 0., 0., 0.],\n",
       "       [1., 1., 1., 1.],\n",
       "       [2., 2., 2., 2.],\n",
       "       [3., 3., 3., 3.],\n",
       "       [4., 4., 4., 4.],\n",
       "       [5., 5., 5., 5.],\n",
       "       [6., 6., 6., 6.],\n",
       "       [7., 7., 7., 7.]])"
      ]
     },
     "execution_count": 157,
     "metadata": {},
     "output_type": "execute_result"
    }
   ],
   "source": [
    "# create empty array with shape (8,4), assign each value with ascending value to each row\n",
    "arr = np.empty((8,4))\n",
    "for i in range(8):\n",
    "    arr[i] = i\n",
    "arr"
   ]
  },
  {
   "cell_type": "code",
   "execution_count": 158,
   "id": "79a313e4",
   "metadata": {},
   "outputs": [
    {
     "data": {
      "text/plain": [
       "array([[4., 4., 4., 4.],\n",
       "       [3., 3., 3., 3.],\n",
       "       [0., 0., 0., 0.],\n",
       "       [6., 6., 6., 6.]])"
      ]
     },
     "execution_count": 158,
     "metadata": {},
     "output_type": "execute_result"
    }
   ],
   "source": [
    "# getting row 5, 4, 1, 7 from 8x4 array using indexing row wanted - 1\n",
    "arr[[4,3,0,6]]"
   ]
  },
  {
   "cell_type": "code",
   "execution_count": 159,
   "id": "ad1eb4da",
   "metadata": {},
   "outputs": [
    {
     "data": {
      "text/plain": [
       "array([[5., 5., 5., 5.],\n",
       "       [3., 3., 3., 3.],\n",
       "       [1., 1., 1., 1.]])"
      ]
     },
     "execution_count": 159,
     "metadata": {},
     "output_type": "execute_result"
    }
   ],
   "source": [
    "# getting row 3, 5 , 7 from the back using indexing row wanted = row wanted\n",
    "arr[[-3,-5,-7]]"
   ]
  },
  {
   "cell_type": "code",
   "execution_count": 164,
   "id": "8d17b63d",
   "metadata": {},
   "outputs": [
    {
     "name": "stdout",
     "output_type": "stream",
     "text": [
      "[[ 0  1  2  3]\n",
      " [ 4  5  6  7]\n",
      " [ 8  9 10 11]\n",
      " [12 13 14 15]\n",
      " [16 17 18 19]\n",
      " [20 21 22 23]\n",
      " [24 25 26 27]\n",
      " [28 29 30 31]]\n"
     ]
    },
    {
     "data": {
      "text/plain": [
       "array([ 4, 23, 29, 10])"
      ]
     },
     "execution_count": 164,
     "metadata": {},
     "output_type": "execute_result"
    }
   ],
   "source": [
    "# create ndarray of 32 with 8x4 shape, get values (1,0), (5,3), (7,1), (2,2) positioned in array\n",
    "arr = np.arange(32).reshape((8,4))\n",
    "print(arr)\n",
    "arr[[1,5,7,2], [0,3,1,2]]"
   ]
  },
  {
   "cell_type": "code",
   "execution_count": 171,
   "id": "a825deb2",
   "metadata": {},
   "outputs": [
    {
     "data": {
      "text/plain": [
       "array([[ 4,  7,  5,  6],\n",
       "       [20, 23, 21, 22],\n",
       "       [28, 31, 29, 30],\n",
       "       [ 8, 11,  9, 10]])"
      ]
     },
     "execution_count": 171,
     "metadata": {},
     "output_type": "execute_result"
    }
   ],
   "source": [
    "# get get values in index 1,5,7,2 (row 2,6,8,3) in 2d array and all element in rows, ordered by column index 0,3,1,2 (column 1,4,2,3)\n",
    "arr[[1,5,7,2]][:, [0,3,1,2]]"
   ]
  },
  {
   "cell_type": "markdown",
   "id": "00ec7d25",
   "metadata": {},
   "source": [
    "## Transposing Arrays and swapping Axes"
   ]
  },
  {
   "cell_type": "code",
   "execution_count": 173,
   "id": "f30d6209",
   "metadata": {},
   "outputs": [
    {
     "name": "stdout",
     "output_type": "stream",
     "text": [
      "[[ 0  1  2  3  4]\n",
      " [ 5  6  7  8  9]\n",
      " [10 11 12 13 14]]\n"
     ]
    },
    {
     "data": {
      "text/plain": [
       "array([[ 0,  5, 10],\n",
       "       [ 1,  6, 11],\n",
       "       [ 2,  7, 12],\n",
       "       [ 3,  8, 13],\n",
       "       [ 4,  9, 14]])"
      ]
     },
     "execution_count": 173,
     "metadata": {},
     "output_type": "execute_result"
    }
   ],
   "source": [
    "# create array with values up to 14 and reshape to 3x5 array, then transpose to 5x3 array\n",
    "arr = np.arange(15).reshape((3,5))\n",
    "print(arr)\n",
    "arr.T"
   ]
  },
  {
   "cell_type": "code",
   "execution_count": 176,
   "id": "cd176d50",
   "metadata": {},
   "outputs": [
    {
     "name": "stdout",
     "output_type": "stream",
     "text": [
      "[[ 1.42236098 -1.93452814 -0.51135785]\n",
      " [-0.41312682  0.40126777  1.34064725]\n",
      " [-1.58692444  0.25384223  0.7121684 ]\n",
      " [ 0.63623234  0.12252007 -0.22188009]\n",
      " [-0.30478748  1.00788274 -0.5541195 ]\n",
      " [-0.70472798 -0.37361055  0.843985  ]] [[ 1.42236098 -0.41312682 -1.58692444  0.63623234 -0.30478748 -0.70472798]\n",
      " [-1.93452814  0.40126777  0.25384223  0.12252007  1.00788274 -0.37361055]\n",
      " [-0.51135785  1.34064725  0.7121684  -0.22188009 -0.5541195   0.843985  ]]\n"
     ]
    },
    {
     "data": {
      "text/plain": [
       "array([[ 5.70644224, -3.28614526, -2.97840867],\n",
       "       [-3.28614526,  5.13827444,  0.80697915],\n",
       "       [-2.97840867,  0.80697915,  3.6345956 ]])"
      ]
     },
     "execution_count": 176,
     "metadata": {},
     "output_type": "execute_result"
    }
   ],
   "source": [
    "# create 6x3 2d array with random values and do dot product on arr and arr.T\n",
    "arr = np.random.randn(6,3)\n",
    "print(arr, arr.T)\n",
    "np.dot(arr.T, arr)"
   ]
  },
  {
   "cell_type": "code",
   "execution_count": 179,
   "id": "9caa2098",
   "metadata": {},
   "outputs": [
    {
     "name": "stdout",
     "output_type": "stream",
     "text": [
      "[[[ 0  1  2  3]\n",
      "  [ 4  5  6  7]]\n",
      "\n",
      " [[ 8  9 10 11]\n",
      "  [12 13 14 15]]]\n"
     ]
    },
    {
     "data": {
      "text/plain": [
       "array([[[ 0,  1,  2,  3],\n",
       "        [ 8,  9, 10, 11]],\n",
       "\n",
       "       [[ 4,  5,  6,  7],\n",
       "        [12, 13, 14, 15]]])"
      ]
     },
     "execution_count": 179,
     "metadata": {},
     "output_type": "execute_result"
    }
   ],
   "source": [
    "# create array with values up to 15 and reshape to 3d array of 2x2x4, transpose by swapping first and second axis\n",
    "# to understand this easily, for eg. value 4 has position (0,1,0), first and second axis swapped to become (1,0,0)\n",
    "arr = np.arange(16).reshape(2,2,4)\n",
    "print(arr)\n",
    "arr.transpose(1,0,2)"
   ]
  },
  {
   "cell_type": "code",
   "execution_count": 180,
   "id": "471389f2",
   "metadata": {},
   "outputs": [
    {
     "name": "stdout",
     "output_type": "stream",
     "text": [
      "[[[ 0  1  2  3]\n",
      "  [ 4  5  6  7]]\n",
      "\n",
      " [[ 8  9 10 11]\n",
      "  [12 13 14 15]]]\n"
     ]
    },
    {
     "data": {
      "text/plain": [
       "array([[[ 0,  4],\n",
       "        [ 1,  5],\n",
       "        [ 2,  6],\n",
       "        [ 3,  7]],\n",
       "\n",
       "       [[ 8, 12],\n",
       "        [ 9, 13],\n",
       "        [10, 14],\n",
       "        [11, 15]]])"
      ]
     },
     "execution_count": 180,
     "metadata": {},
     "output_type": "execute_result"
    }
   ],
   "source": [
    "# swap axes 2 and 3 using swap axes\n",
    "# (2,2,4) -> (2,4,2)\n",
    "print(arr)\n",
    "arr.swapaxes(1,2)"
   ]
  },
  {
   "cell_type": "markdown",
   "id": "a7c34ad4",
   "metadata": {},
   "source": [
    "## Universal functions: Fast element-wise array functions\n",
    "functions that that do element wise functions on arrays, removing need for `for loops` "
   ]
  },
  {
   "cell_type": "code",
   "execution_count": 6,
   "id": "46128700",
   "metadata": {},
   "outputs": [
    {
     "name": "stdout",
     "output_type": "stream",
     "text": [
      "[0 1 2 3 4 5 6 7 8 9] \n",
      " [0.         1.         1.41421356 1.73205081 2.         2.23606798\n",
      " 2.44948974 2.64575131 2.82842712 3.        ] \n",
      " [1.00000000e+00 2.71828183e+00 7.38905610e+00 2.00855369e+01\n",
      " 5.45981500e+01 1.48413159e+02 4.03428793e+02 1.09663316e+03\n",
      " 2.98095799e+03 8.10308393e+03]\n"
     ]
    }
   ],
   "source": [
    "# create 1d array with values up to 9 and use sqrt and exp ufunc\n",
    "arr = np.arange(10)\n",
    "print(arr, '\\n', np.sqrt(arr), '\\n',np.exp(arr))"
   ]
  },
  {
   "cell_type": "code",
   "execution_count": 8,
   "id": "fcbe716e",
   "metadata": {},
   "outputs": [
    {
     "name": "stdout",
     "output_type": "stream",
     "text": [
      "[ 0.34231298 -0.8733438  -0.40369435  0.64739694  0.13776475  0.5643269\n",
      "  0.0164106   0.05933448] \n",
      " [-0.71732394 -0.10497958 -0.14025562  0.33879874 -0.30128435  0.25793185\n",
      "  0.15396282  0.82047729]\n"
     ]
    },
    {
     "data": {
      "text/plain": [
       "array([ 0.34231298, -0.10497958, -0.14025562,  0.64739694,  0.13776475,\n",
       "        0.5643269 ,  0.15396282,  0.82047729])"
      ]
     },
     "execution_count": 8,
     "metadata": {},
     "output_type": "execute_result"
    }
   ],
   "source": [
    "# create 1-d array with 8 random numbers x,y and use ufunc maximum to get maximum between arrays\n",
    "x = np.random.randn(8)\n",
    "y = np.random.randn(8)\n",
    "print(x, '\\n', y)\n",
    "np.maximum(x,y)"
   ]
  },
  {
   "cell_type": "code",
   "execution_count": 10,
   "id": "da15bab2",
   "metadata": {},
   "outputs": [
    {
     "name": "stdout",
     "output_type": "stream",
     "text": [
      "[-0.47336087  0.56337209 -0.08461048 -0.8589467  -0.02851995 -0.97722215\n",
      "  0.05141396] \n",
      " [-8.  9. -0. -4. -0. -0.  2.]\n"
     ]
    }
   ],
   "source": [
    "# random array with 7 random numbers multiplied by 5\n",
    "# get remainder, whole part returned by multiple arrays using ufunc modf\n",
    "\n",
    "arr = np.random.randn(7) * 5\n",
    "remainder, whole_part = np.modf(arr)\n",
    "print(remainder, '\\n',whole_part)"
   ]
  },
  {
   "cell_type": "code",
   "execution_count": 24,
   "id": "b950ea96",
   "metadata": {
    "scrolled": true
   },
   "outputs": [
    {
     "name": "stdout",
     "output_type": "stream",
     "text": [
      "[-3.36345361 -4.68954107 -6.25194612 -2.51988902  2.00136774 -3.48856104\n",
      "  6.51892207]\n"
     ]
    },
    {
     "name": "stderr",
     "output_type": "stream",
     "text": [
      "<ipython-input-24-651c22850b7d>:3: RuntimeWarning: invalid value encountered in sqrt\n",
      "  np.sqrt(arr)\n",
      "<ipython-input-24-651c22850b7d>:5: RuntimeWarning: invalid value encountered in sqrt\n",
      "  np.sqrt(arr,arr)\n"
     ]
    },
    {
     "data": {
      "text/plain": [
       "array([       nan,        nan,        nan,        nan, 1.41469705,\n",
       "              nan, 2.55321798])"
      ]
     },
     "execution_count": 24,
     "metadata": {},
     "output_type": "execute_result"
    }
   ],
   "source": [
    "# np.sqrt with optional out function, which will operate inplace (kind of like inplace =True in pandas)\n",
    "arr = np.random.randn(7) * 5\n",
    "np.sqrt(arr)\n",
    "print(arr)\n",
    "np.sqrt(arr,arr)\n",
    "arr"
   ]
  },
  {
   "cell_type": "markdown",
   "id": "f975c370",
   "metadata": {},
   "source": [
    "## Array-Oriented Programming with Arrays"
   ]
  },
  {
   "cell_type": "code",
   "execution_count": 30,
   "id": "f30ce409",
   "metadata": {},
   "outputs": [
    {
     "data": {
      "text/plain": [
       "array([[-5.  , -5.  , -5.  , ..., -5.  , -5.  , -5.  ],\n",
       "       [-4.99, -4.99, -4.99, ..., -4.99, -4.99, -4.99],\n",
       "       [-4.98, -4.98, -4.98, ..., -4.98, -4.98, -4.98],\n",
       "       ...,\n",
       "       [ 4.97,  4.97,  4.97, ...,  4.97,  4.97,  4.97],\n",
       "       [ 4.98,  4.98,  4.98, ...,  4.98,  4.98,  4.98],\n",
       "       [ 4.99,  4.99,  4.99, ...,  4.99,  4.99,  4.99]])"
      ]
     },
     "execution_count": 30,
     "metadata": {},
     "output_type": "execute_result"
    }
   ],
   "source": [
    "points = np.arange(-5,5,0.01)\n",
    "xs, ys = np.meshgrid(points, points)\n",
    "ys"
   ]
  },
  {
   "cell_type": "code",
   "execution_count": 33,
   "id": "3ffaef54",
   "metadata": {},
   "outputs": [
    {
     "data": {
      "text/plain": [
       "array([[7.07106781, 7.06400028, 7.05693985, ..., 7.04988652, 7.05693985,\n",
       "        7.06400028],\n",
       "       [7.06400028, 7.05692568, 7.04985815, ..., 7.04279774, 7.04985815,\n",
       "        7.05692568],\n",
       "       [7.05693985, 7.04985815, 7.04278354, ..., 7.03571603, 7.04278354,\n",
       "        7.04985815],\n",
       "       ...,\n",
       "       [7.04988652, 7.04279774, 7.03571603, ..., 7.0286414 , 7.03571603,\n",
       "        7.04279774],\n",
       "       [7.05693985, 7.04985815, 7.04278354, ..., 7.03571603, 7.04278354,\n",
       "        7.04985815],\n",
       "       [7.06400028, 7.05692568, 7.04985815, ..., 7.04279774, 7.04985815,\n",
       "        7.05692568]])"
      ]
     },
     "execution_count": 33,
     "metadata": {},
     "output_type": "execute_result"
    }
   ],
   "source": [
    "z = np.sqrt(xs**2 + ys**2)\n",
    "z"
   ]
  },
  {
   "cell_type": "code",
   "execution_count": 35,
   "id": "7d28d1dc",
   "metadata": {},
   "outputs": [
    {
     "data": {
      "text/plain": [
       "Text(0.5, 1.0, 'Image plot of $\\\\sqrt{x^2 + y^2}$ for a grid of values')"
      ]
     },
     "execution_count": 35,
     "metadata": {},
     "output_type": "execute_result"
    },
    {
     "data": {
      "image/png": "[encoded data removed]",
      "text/plain": [
       "<Figure size 432x288 with 2 Axes>"
      ]
     },
     "metadata": {
      "needs_background": "light"
     },
     "output_type": "display_data"
    }
   ],
   "source": [
    "import matplotlib.pyplot as plt\n",
    "plt.imshow(z, cmap=plt.cm.gray)\n",
    "plt.colorbar()\n",
    "plt.title(\"Image plot of $\\sqrt{x^2 + y^2}$ for a grid of values\")"
   ]
  },
  {
   "cell_type": "code",
   "execution_count": 36,
   "id": "ce30d7dd",
   "metadata": {},
   "outputs": [
    {
     "data": {
      "text/plain": [
       "<Figure size 432x288 with 0 Axes>"
      ]
     },
     "metadata": {},
     "output_type": "display_data"
    }
   ],
   "source": [
    "plt.draw()"
   ]
  },
  {
   "cell_type": "code",
   "execution_count": 37,
   "id": "d6019554",
   "metadata": {},
   "outputs": [],
   "source": [
    "plt.close('all')"
   ]
  },
  {
   "cell_type": "markdown",
   "id": "7ce41ec6",
   "metadata": {},
   "source": [
    "## Expressing Conditional Logic as Array Operations"
   ]
  },
  {
   "cell_type": "code",
   "execution_count": 46,
   "id": "988d2392",
   "metadata": {},
   "outputs": [],
   "source": [
    "# if we have 3 arrays, x, y and cond and we want values from x or y base on condition in array cond\n",
    "# we can use built in python for loops or np.where which is faster\n",
    "\n",
    "xarr = np.arange(1.1,1.6,0.1)\n",
    "yarr = np.arange(2.1,2.6,0.1)\n",
    "cond = np.array([True,False,True,True,False])"
   ]
  },
  {
   "cell_type": "code",
   "execution_count": 50,
   "id": "887f9f80",
   "metadata": {},
   "outputs": [
    {
     "data": {
      "text/plain": [
       "[1.1, 2.2, 1.3000000000000003, 1.4000000000000004, 2.5000000000000004]"
      ]
     },
     "execution_count": 50,
     "metadata": {},
     "output_type": "execute_result"
    }
   ],
   "source": [
    "# using built in python for loops and list comprehension\n",
    "result = [(x if c else y) for x,y,c in zip(xarr,yarr,cond)]\n",
    "result"
   ]
  },
  {
   "cell_type": "code",
   "execution_count": 51,
   "id": "321fd4c4",
   "metadata": {},
   "outputs": [
    {
     "data": {
      "text/plain": [
       "array([1.1, 2.2, 1.3, 1.4, 2.5])"
      ]
     },
     "execution_count": 51,
     "metadata": {},
     "output_type": "execute_result"
    }
   ],
   "source": [
    "# using np.where\n",
    "result = np.where(cond, xarr, yarr)\n",
    "result"
   ]
  },
  {
   "cell_type": "code",
   "execution_count": 52,
   "id": "481f00d9",
   "metadata": {},
   "outputs": [
    {
     "name": "stdout",
     "output_type": "stream",
     "text": [
      "[[-1.05322287  0.41900712 -0.55235387 -0.01814833]\n",
      " [-0.09403885  0.03859788 -1.59133219 -0.45103007]\n",
      " [-0.0111092   0.44313198  0.05079061  0.34440913]\n",
      " [ 0.23884285  0.79481358 -0.22204447 -2.02948961]]\n"
     ]
    },
    {
     "data": {
      "text/plain": [
       "array([[-2,  2, -2, -2],\n",
       "       [-2,  2, -2, -2],\n",
       "       [-2,  2,  2,  2],\n",
       "       [ 2,  2, -2, -2]])"
      ]
     },
     "execution_count": 52,
     "metadata": {},
     "output_type": "execute_result"
    }
   ],
   "source": [
    "# we can also provide scalar values to replace any value in array that fits condition\n",
    "arr = np.random.randn(4,4)\n",
    "print(arr)\n",
    "np.where(arr > 0, 2, -2)"
   ]
  },
  {
   "cell_type": "code",
   "execution_count": 53,
   "id": "7ddc838e",
   "metadata": {},
   "outputs": [
    {
     "data": {
      "text/plain": [
       "array([[-1.05322287,  2.        , -0.55235387, -0.01814833],\n",
       "       [-0.09403885,  2.        , -1.59133219, -0.45103007],\n",
       "       [-0.0111092 ,  2.        ,  2.        ,  2.        ],\n",
       "       [ 2.        ,  2.        , -0.22204447, -2.02948961]])"
      ]
     },
     "execution_count": 53,
     "metadata": {},
     "output_type": "execute_result"
    }
   ],
   "source": [
    "# can also mix with scalar and array values\n",
    "np.where(arr > 0, 2, arr)"
   ]
  },
  {
   "cell_type": "markdown",
   "id": "1adb1ce3",
   "metadata": {},
   "source": [
    "## Mathematical and Statistical Methods"
   ]
  },
  {
   "cell_type": "code",
   "execution_count": 55,
   "id": "3284b534",
   "metadata": {},
   "outputs": [
    {
     "name": "stdout",
     "output_type": "stream",
     "text": [
      "[[ 0.53041173  0.50687657  0.98056192  0.82383939]\n",
      " [-0.84127662  1.68737199 -0.47296378  0.91326535]\n",
      " [ 0.33109342 -0.11570932  0.10166716  0.13390898]\n",
      " [-0.85023312  2.10486885 -0.54099927 -0.62684766]\n",
      " [-1.02798497  2.03619042  0.71710734  1.29055487]]\n",
      "0.3840851640430001 0.3840851640430001\n"
     ]
    },
    {
     "data": {
      "text/plain": [
       "7.681703280860002"
      ]
     },
     "execution_count": 55,
     "metadata": {},
     "output_type": "execute_result"
    }
   ],
   "source": [
    "# two ways to call array statistical methods arr.func() or np.func(array)\n",
    "arr = np.random.randn(5,4)\n",
    "print(arr)\n",
    "print(arr.mean(), np.mean(arr))\n",
    "arr.sum()"
   ]
  },
  {
   "cell_type": "code",
   "execution_count": 59,
   "id": "8314990c",
   "metadata": {},
   "outputs": [
    {
     "name": "stdout",
     "output_type": "stream",
     "text": [
      "[[ 0.53041173  0.50687657  0.98056192  0.82383939]\n",
      " [-0.84127662  1.68737199 -0.47296378  0.91326535]\n",
      " [ 0.33109342 -0.11570932  0.10166716  0.13390898]\n",
      " [-0.85023312  2.10486885 -0.54099927 -0.62684766]\n",
      " [-1.02798497  2.03619042  0.71710734  1.29055487]]\n",
      "[-0.37159791  1.2439197   0.15707468  0.50694419]\n",
      "[0.7104224  0.32159924 0.11274006 0.0216972  0.75396692]\n",
      "[-1.85798956  6.21959852  0.78537338  2.53472094]\n"
     ]
    }
   ],
   "source": [
    "# passing in axis determines how statistical method is calculated\n",
    "# axis = 1 calculate accross columns \"go horizontally\"\n",
    "# axis = 0 calculate accross rows \"go vertically\"\n",
    "print(arr)\n",
    "print(arr.mean(axis=0))\n",
    "print(arr.mean(axis=1))\n",
    "print(arr.sum(axis=0))"
   ]
  },
  {
   "cell_type": "code",
   "execution_count": 61,
   "id": "425c3ccb",
   "metadata": {},
   "outputs": [
    {
     "name": "stdout",
     "output_type": "stream",
     "text": [
      "[0 1 2 3 4 5 6 7]\n"
     ]
    },
    {
     "data": {
      "text/plain": [
       "array([ 0,  1,  3,  6, 10, 15, 21, 28], dtype=int32)"
      ]
     },
     "execution_count": 61,
     "metadata": {},
     "output_type": "execute_result"
    }
   ],
   "source": [
    "# cumulative sum\n",
    "arr = np.arange(8)\n",
    "print(arr)\n",
    "arr.cumsum()"
   ]
  },
  {
   "cell_type": "code",
   "execution_count": 66,
   "id": "4af240d7",
   "metadata": {},
   "outputs": [
    {
     "name": "stdout",
     "output_type": "stream",
     "text": [
      "[[0 1 2]\n",
      " [3 4 5]\n",
      " [6 7 8]]\n",
      "[[ 0  1  2]\n",
      " [ 3  5  7]\n",
      " [ 9 12 15]]\n",
      "[[  0   0   0]\n",
      " [  3  12  60]\n",
      " [  6  42 336]]\n"
     ]
    }
   ],
   "source": [
    "# 2-d array cumsum, cumprod with axis=0, 1\n",
    "arr = np.arange(9).reshape(3,3)\n",
    "print(arr)\n",
    "print(arr.cumsum(axis=0))\n",
    "print(arr.cumprod(axis=1))"
   ]
  },
  {
   "cell_type": "markdown",
   "id": "6963b2d8",
   "metadata": {},
   "source": [
    "## Methods for Boolean Arrays"
   ]
  },
  {
   "cell_type": "code",
   "execution_count": 124,
   "id": "cb033c03",
   "metadata": {},
   "outputs": [
    {
     "data": {
      "text/plain": [
       "56"
      ]
     },
     "execution_count": 124,
     "metadata": {},
     "output_type": "execute_result"
    }
   ],
   "source": [
    "# sum only values in array that are > 0\n",
    "arr = np.random.randn(100)\n",
    "(arr > 0).sum()"
   ]
  },
  {
   "cell_type": "code",
   "execution_count": 126,
   "id": "1a266947",
   "metadata": {},
   "outputs": [
    {
     "name": "stdout",
     "output_type": "stream",
     "text": [
      "True False\n"
     ]
    }
   ],
   "source": [
    "# any and all, any checks for any True, all hecks for all true\n",
    "bools = np.array([False, False, True, False])\n",
    "print(bools.any(), bools.all())"
   ]
  },
  {
   "cell_type": "markdown",
   "id": "b58b5f66",
   "metadata": {},
   "source": [
    "## Sorting"
   ]
  },
  {
   "cell_type": "code",
   "execution_count": 67,
   "id": "73610149",
   "metadata": {},
   "outputs": [
    {
     "name": "stdout",
     "output_type": "stream",
     "text": [
      "[-0.37886648  1.03880334  0.00481282 -0.05494674  0.50040609  0.04292856]\n"
     ]
    },
    {
     "data": {
      "text/plain": [
       "array([-0.37886648, -0.05494674,  0.00481282,  0.04292856,  0.50040609,\n",
       "        1.03880334])"
      ]
     },
     "execution_count": 67,
     "metadata": {},
     "output_type": "execute_result"
    }
   ],
   "source": [
    "# sortin 1-d array\n",
    "arr = np.random.randn(6)\n",
    "print(arr)\n",
    "arr.sort() # this acts inplace of the array\n",
    "arr"
   ]
  },
  {
   "cell_type": "code",
   "execution_count": 68,
   "id": "558c167d",
   "metadata": {},
   "outputs": [
    {
     "name": "stdout",
     "output_type": "stream",
     "text": [
      "[[ 0.43775561 -1.34873743 -0.67878122]\n",
      " [ 1.55184015 -0.21825438 -0.32278321]\n",
      " [ 0.90813411 -0.86638418  0.96036786]\n",
      " [ 0.23900859  0.08882766  0.27690062]\n",
      " [ 0.57467391 -0.37421517 -0.08278304]]\n",
      "[[-1.34873743 -0.67878122  0.43775561]\n",
      " [-0.32278321 -0.21825438  1.55184015]\n",
      " [-0.86638418  0.90813411  0.96036786]\n",
      " [ 0.08882766  0.23900859  0.27690062]\n",
      " [-0.37421517 -0.08278304  0.57467391]]\n"
     ]
    }
   ],
   "source": [
    "# sorting 2d array, remember to pass in axis\n",
    "arr = np.random.randn(5,3)\n",
    "print(arr)\n",
    "arr.sort(1)\n",
    "print(arr)"
   ]
  },
  {
   "cell_type": "code",
   "execution_count": 75,
   "id": "15e8f15c",
   "metadata": {},
   "outputs": [
    {
     "name": "stdout",
     "output_type": "stream",
     "text": [
      "[[ 0.25372027  0.60870484  0.60724713]\n",
      " [ 0.6962518  -0.75090797  1.68668019]\n",
      " [ 0.86275026  2.0824061   0.21881184]\n",
      " [ 0.017712   -0.22463971 -1.31305444]\n",
      " [ 0.33547008  0.90674121 -1.00614201]]\n",
      "[[ 0.60870484  0.60724713  0.25372027]\n",
      " [ 1.68668019  0.6962518  -0.75090797]\n",
      " [ 2.0824061   0.86275026  0.21881184]\n",
      " [ 0.017712   -0.22463971 -1.31305444]\n",
      " [ 0.90674121  0.33547008 -1.00614201]]\n"
     ]
    }
   ],
   "source": [
    "# descending order\n",
    "arr = np.random.randn(5,3)\n",
    "print(arr)\n",
    "arr = -np.sort(-arr)\n",
    "print(arr)"
   ]
  },
  {
   "cell_type": "markdown",
   "id": "ec3e7f89",
   "metadata": {},
   "source": [
    "## Unique and Other Set Logic"
   ]
  },
  {
   "cell_type": "code",
   "execution_count": 78,
   "id": "fb8de56c",
   "metadata": {},
   "outputs": [
    {
     "data": {
      "text/plain": [
       "array([1, 2, 3, 4])"
      ]
     },
     "execution_count": 78,
     "metadata": {},
     "output_type": "execute_result"
    }
   ],
   "source": [
    "# get unique from string array, int array\n",
    "names = np.array(['Bob', 'Joe', 'Will', 'Bob', 'Will', 'Joe', 'Joe'])\n",
    "np.unique(names)\n",
    "ints = np.array([3, 3, 3, 2, 2, 1, 1, 4, 4])\n",
    "np.unique(ints)"
   ]
  },
  {
   "cell_type": "code",
   "execution_count": 80,
   "id": "98a08429",
   "metadata": {},
   "outputs": [
    {
     "name": "stdout",
     "output_type": "stream",
     "text": [
      "['Bob', 'Joe', 'Will']\n",
      "[1, 2, 3, 4]\n"
     ]
    }
   ],
   "source": [
    "# python equivalent of above\n",
    "print(sorted(set(names)))\n",
    "print(sorted(set(ints)))"
   ]
  },
  {
   "cell_type": "code",
   "execution_count": 81,
   "id": "7e0ddd61",
   "metadata": {},
   "outputs": [
    {
     "data": {
      "text/plain": [
       "array([ True, False, False,  True,  True, False,  True])"
      ]
     },
     "execution_count": 81,
     "metadata": {},
     "output_type": "execute_result"
    }
   ],
   "source": [
    "# comparing if elements in 1-d array exists in another array\n",
    "values = np.array([6, 0, 0, 3, 2, 5, 6])\n",
    "np.in1d(values, [2,3,6])"
   ]
  },
  {
   "cell_type": "markdown",
   "id": "2109c807",
   "metadata": {},
   "source": [
    "## File Input and Output with Arrays"
   ]
  },
  {
   "cell_type": "code",
   "execution_count": 82,
   "id": "41a8db43",
   "metadata": {},
   "outputs": [],
   "source": [
    "# save array to .npy numpy file\n",
    "arr = np.arange(10)\n",
    "np.save('some_array', arr)"
   ]
  },
  {
   "cell_type": "code",
   "execution_count": 83,
   "id": "d3381ad9",
   "metadata": {},
   "outputs": [
    {
     "data": {
      "text/plain": [
       "array([0, 1, 2, 3, 4, 5, 6, 7, 8, 9])"
      ]
     },
     "execution_count": 83,
     "metadata": {},
     "output_type": "execute_result"
    }
   ],
   "source": [
    "# load array\n",
    "np.load('some_array.npy')"
   ]
  },
  {
   "cell_type": "code",
   "execution_count": 84,
   "id": "015a81a2",
   "metadata": {},
   "outputs": [],
   "source": [
    "# save array to .npz numpy file, saves lazily loading it gives a dictionary with key\n",
    "np.savez('array_archive.npz', a=arr, b=arr)"
   ]
  },
  {
   "cell_type": "code",
   "execution_count": 86,
   "id": "7599c6c5",
   "metadata": {},
   "outputs": [
    {
     "data": {
      "text/plain": [
       "array([0, 1, 2, 3, 4, 5, 6, 7, 8, 9])"
      ]
     },
     "execution_count": 86,
     "metadata": {},
     "output_type": "execute_result"
    }
   ],
   "source": [
    "# load .npz file\n",
    "arch = np.load('array_archive.npz')\n",
    "arch['b']"
   ]
  },
  {
   "cell_type": "code",
   "execution_count": 87,
   "id": "197a515d",
   "metadata": {},
   "outputs": [],
   "source": [
    "# saved compressed file\n",
    "np.savez_compressed('arrays_compressed.npz', a=arr, b=arr)"
   ]
  },
  {
   "cell_type": "markdown",
   "id": "7ddd8f53",
   "metadata": {},
   "source": [
    "## Linear Algebra"
   ]
  },
  {
   "cell_type": "code",
   "execution_count": 90,
   "id": "2d373bfc",
   "metadata": {},
   "outputs": [
    {
     "name": "stdout",
     "output_type": "stream",
     "text": [
      "[[1. 2. 3.]\n",
      " [4. 5. 6.]]\n",
      "[[ 6. 23.]\n",
      " [-1.  7.]\n",
      " [ 8.  9.]]\n"
     ]
    },
    {
     "data": {
      "text/plain": [
       "array([[ 28.,  64.],\n",
       "       [ 67., 181.]])"
      ]
     },
     "execution_count": 90,
     "metadata": {},
     "output_type": "execute_result"
    }
   ],
   "source": [
    "# dot product between two 2-d arrays\n",
    "x = np.array([[1., 2., 3.], [4., 5., 6.]])\n",
    "y = np.array([[6., 23.], [-1, 7], [8, 9]])\n",
    "print(x)\n",
    "print(y)\n",
    "x.dot(y)"
   ]
  },
  {
   "cell_type": "code",
   "execution_count": 91,
   "id": "92f863ab",
   "metadata": {},
   "outputs": [
    {
     "data": {
      "text/plain": [
       "array([[ 28.,  64.],\n",
       "       [ 67., 181.]])"
      ]
     },
     "execution_count": 91,
     "metadata": {},
     "output_type": "execute_result"
    }
   ],
   "source": [
    "# calling dot product using np\n",
    "np.dot(x,y)"
   ]
  },
  {
   "cell_type": "code",
   "execution_count": 95,
   "id": "647350f8",
   "metadata": {},
   "outputs": [
    {
     "name": "stdout",
     "output_type": "stream",
     "text": [
      "[[1. 2. 3.]\n",
      " [4. 5. 6.]] \n",
      " [1. 1. 1.]\n"
     ]
    },
    {
     "data": {
      "text/plain": [
       "array([ 6., 15.])"
      ]
     },
     "execution_count": 95,
     "metadata": {},
     "output_type": "execute_result"
    }
   ],
   "source": [
    "# dot product between 2-d and 1-d array\n",
    "print(x, '\\n', np.ones(3))\n",
    "np.dot(x, np.ones(3))"
   ]
  },
  {
   "cell_type": "code",
   "execution_count": 96,
   "id": "62236b67",
   "metadata": {},
   "outputs": [
    {
     "data": {
      "text/plain": [
       "array([ 6., 15.])"
      ]
     },
     "execution_count": 96,
     "metadata": {},
     "output_type": "execute_result"
    }
   ],
   "source": [
    "# using @ to do dot product\n",
    "x @ np.ones(3)"
   ]
  },
  {
   "cell_type": "code",
   "execution_count": 100,
   "id": "3684067b",
   "metadata": {},
   "outputs": [
    {
     "name": "stdout",
     "output_type": "stream",
     "text": [
      "[[6.32417459 3.47370014 0.03386172 1.73080866 2.15541237]\n",
      " [3.47370014 5.83776153 2.02033217 5.97658292 0.1716546 ]\n",
      " [0.03386172 2.02033217 4.5654412  1.74740999 0.8443472 ]\n",
      " [1.73080866 5.97658292 1.74740999 7.69360499 0.67534427]\n",
      " [2.15541237 0.1716546  0.8443472  0.67534427 6.91904375]]\n",
      "[[  6.65891178 -14.65361923   3.40839315   9.37816533  -3.04213962]\n",
      " [-14.65361923  33.19212842  -7.66160206 -21.34108323   6.75940822]\n",
      " [  3.40839315  -7.66160206   2.01601328   4.86687097  -1.59275942]\n",
      " [  9.37816533 -21.34108323   4.86687097  13.87406994  -4.34014036]\n",
      " [ -3.04213962   6.75940822  -1.59275942  -4.34014036   1.54251269]]\n"
     ]
    },
    {
     "data": {
      "text/plain": [
       "array([[-0.8184659 ,  0.34377479,  0.02881182,  0.30578535, -0.34292515],\n",
       "       [-0.44956145, -0.44144241,  0.04344107,  0.1433937 ,  0.76195421],\n",
       "       [-0.00438234, -0.31920501, -0.90145547,  0.23071848, -0.17954379],\n",
       "       [-0.22399886, -0.71198798,  0.25547535, -0.3718494 , -0.48924227],\n",
       "       [-0.27895048,  0.27951524, -0.34553311, -0.83332501,  0.17387972]])"
      ]
     },
     "execution_count": 100,
     "metadata": {},
     "output_type": "execute_result"
    }
   ],
   "source": [
    "# getting inverse matrix and qr decomposition\n",
    "from numpy.linalg import inv, qr\n",
    "X = np.random.randn(5,5)\n",
    "mat = X.T.dot(X)\n",
    "print(mat)\n",
    "print(inv(mat))\n",
    "mat.dot(inv(mat))\n",
    "q, r = qr(mat) # q.dot(r) gives mat"
   ]
  },
  {
   "cell_type": "markdown",
   "id": "96a2c4c2",
   "metadata": {},
   "source": [
    "## Pseudorandom Number Generation"
   ]
  },
  {
   "cell_type": "code",
   "execution_count": 107,
   "id": "dd54a44d",
   "metadata": {},
   "outputs": [
    {
     "data": {
      "text/plain": [
       "array([[ 0.49459827,  0.27452803,  1.57892135, -0.61863993],\n",
       "       [-0.14804667,  0.97653491,  0.57339817,  0.61398873],\n",
       "       [ 1.64614406,  0.69145503, -0.14309636,  0.78333523],\n",
       "       [-0.70122162,  1.4866095 ,  0.31426592,  1.14453352]])"
      ]
     },
     "execution_count": 107,
     "metadata": {},
     "output_type": "execute_result"
    }
   ],
   "source": [
    "# generate 2-d array of shape 4,4 with values from normal distribution\n",
    "samples = np.random.normal(size=(4,4))\n",
    "samples"
   ]
  },
  {
   "cell_type": "code",
   "execution_count": 108,
   "id": "093105c3",
   "metadata": {},
   "outputs": [
    {
     "name": "stdout",
     "output_type": "stream",
     "text": [
      "940 ms ± 42.9 ms per loop (mean ± std. dev. of 7 runs, 1 loop each)\n",
      "27.4 ms ± 1.08 ms per loop (mean ± std. dev. of 7 runs, 10 loops each)\n"
     ]
    }
   ],
   "source": [
    "# comparing number generation for 1 million numbers\n",
    "from random import normalvariate\n",
    "N = 1000000\n",
    "%timeit samples = [normalvariate(0,1) for _ in range(N)]\n",
    "%timeit samples = np.random.normal(size=N)"
   ]
  },
  {
   "cell_type": "code",
   "execution_count": 109,
   "id": "ff451646",
   "metadata": {},
   "outputs": [],
   "source": [
    "# setting random_seed: number to set randomness\n",
    "np.random.seed(1234)"
   ]
  },
  {
   "cell_type": "code",
   "execution_count": 115,
   "id": "900e43e9",
   "metadata": {},
   "outputs": [
    {
     "data": {
      "text/plain": [
       "array([ 0.47143516, -1.19097569,  1.43270697, -0.3126519 , -0.72058873,\n",
       "        0.88716294,  0.85958841, -0.6365235 ,  0.01569637, -2.24268495])"
      ]
     },
     "execution_count": 115,
     "metadata": {},
     "output_type": "execute_result"
    }
   ],
   "source": [
    "# avoid global random_seed by isolating your randomseed\n",
    "rng = np.random.RandomState(1234)\n",
    "rng.randn(10)"
   ]
  },
  {
   "cell_type": "markdown",
   "id": "6963f270",
   "metadata": {},
   "source": [
    "## Random Walks"
   ]
  },
  {
   "cell_type": "code",
   "execution_count": 127,
   "id": "beec5511",
   "metadata": {},
   "outputs": [],
   "source": [
    "# basically a random walk is just random steps a person takes until a goal steps\n",
    "# position eventually increases\n",
    "import random\n",
    "position = 0\n",
    "walk = [position]\n",
    "steps = 1000\n",
    "for i in range(steps):\n",
    "    step = 1 if random.randint(0,1) else -1\n",
    "    position += step\n",
    "    walk.append(position)"
   ]
  },
  {
   "cell_type": "code",
   "execution_count": 129,
   "id": "5374ae4c",
   "metadata": {},
   "outputs": [
    {
     "data": {
      "text/plain": [
       "[<matplotlib.lines.Line2D at 0x2453750b340>]"
      ]
     },
     "execution_count": 129,
     "metadata": {},
     "output_type": "execute_result"
    },
    {
     "data": {
      "image/png": "[encoded data removed]",
      "text/plain": [
       "<Figure size 432x288 with 1 Axes>"
      ]
     },
     "metadata": {
      "needs_background": "light"
     },
     "output_type": "display_data"
    }
   ],
   "source": [
    "plt.figure()\n",
    "plt.plot(walk[:100])"
   ]
  },
  {
   "cell_type": "code",
   "execution_count": 133,
   "id": "d86e826c",
   "metadata": {},
   "outputs": [],
   "source": [
    "# numpy method for random walk\n",
    "np.random.seed(12345)\n",
    "nsteps = 1000\n",
    "draws = np.random.randint(0, 2, size = nsteps) # 0-2 range incldues values 0 and 1\n",
    "steps = np.where(draws > 0, 1, -1)\n",
    "walk = steps.cumsum()"
   ]
  },
  {
   "cell_type": "code",
   "execution_count": 135,
   "id": "050be8cd",
   "metadata": {},
   "outputs": [
    {
     "data": {
      "text/plain": [
       "31"
      ]
     },
     "execution_count": 135,
     "metadata": {},
     "output_type": "execute_result"
    }
   ],
   "source": [
    "walk.min()\n",
    "walk.max()"
   ]
  },
  {
   "cell_type": "code",
   "execution_count": 137,
   "id": "0997a765",
   "metadata": {},
   "outputs": [
    {
     "data": {
      "text/plain": [
       "37"
      ]
     },
     "execution_count": 137,
     "metadata": {},
     "output_type": "execute_result"
    }
   ],
   "source": [
    "(np.abs(walk) >= 10).argmax()"
   ]
  },
  {
   "cell_type": "markdown",
   "id": "ea8e2973",
   "metadata": {},
   "source": [
    "## Simulating Many Random Walks at Once"
   ]
  },
  {
   "cell_type": "code",
   "execution_count": 143,
   "id": "8f2ed0f1",
   "metadata": {},
   "outputs": [
    {
     "data": {
      "text/plain": [
       "array([[ -1,   0,  -1, ...,  24,  23,  22],\n",
       "       [ -1,   0,  -1, ..., -36, -37, -36],\n",
       "       [  1,   2,   3, ..., -42, -41, -40],\n",
       "       ...,\n",
       "       [  1,   0,  -1, ...,  48,  49,  50],\n",
       "       [ -1,  -2,  -3, ..., -38, -39, -40],\n",
       "       [ -1,   0,   1, ..., -48, -47, -48]], dtype=int32)"
      ]
     },
     "execution_count": 143,
     "metadata": {},
     "output_type": "execute_result"
    }
   ],
   "source": [
    "nwalks = 5000\n",
    "nsteps = 1000\n",
    "draws = np.random.randint(0, 2, size=(nwalks, nsteps)) # 0 or 1\n",
    "steps = np.where(draws > 0, 1, -1)\n",
    "walks = steps.cumsum(1)\n",
    "walks"
   ]
  },
  {
   "cell_type": "code",
   "execution_count": 144,
   "id": "4f53612a",
   "metadata": {},
   "outputs": [
    {
     "data": {
      "text/plain": [
       "-117"
      ]
     },
     "execution_count": 144,
     "metadata": {},
     "output_type": "execute_result"
    }
   ],
   "source": [
    "walks.max()\n",
    "walks.min()"
   ]
  },
  {
   "cell_type": "code",
   "execution_count": 145,
   "id": "15935ef4",
   "metadata": {},
   "outputs": [
    {
     "data": {
      "text/plain": [
       "3412"
      ]
     },
     "execution_count": 145,
     "metadata": {},
     "output_type": "execute_result"
    }
   ],
   "source": [
    "hits30 = (np.abs(walks) >= 30).any(1)\n",
    "hits30\n",
    "hits30.sum() # Number that hit 30 or -30"
   ]
  },
  {
   "cell_type": "code",
   "execution_count": 146,
   "id": "3761cbc0",
   "metadata": {},
   "outputs": [
    {
     "data": {
      "text/plain": [
       "array([ True,  True,  True, ...,  True,  True,  True])"
      ]
     },
     "execution_count": 146,
     "metadata": {},
     "output_type": "execute_result"
    }
   ],
   "source": [
    "hits30"
   ]
  },
  {
   "cell_type": "code",
   "execution_count": null,
   "id": "cd4c175b",
   "metadata": {},
   "outputs": [],
   "source": []
  }
 ],
 "metadata": {
  "kernelspec": {
   "display_name": "Python 3",
   "language": "python",
   "name": "python3"
  },
  "language_info": {
   "codemirror_mode": {
    "name": "ipython",
    "version": 3
   },
   "file_extension": ".py",
   "mimetype": "text/x-python",
   "name": "python",
   "nbconvert_exporter": "python",
   "pygments_lexer": "ipython3",
   "version": "3.8.8"
  }
 },
 "nbformat": 4,
 "nbformat_minor": 5
}
