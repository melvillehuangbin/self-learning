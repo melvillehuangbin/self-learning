{
 "cells": [
  {
   "cell_type": "markdown",
   "id": "8ca12cde",
   "metadata": {},
   "source": [
    "# Learning outcomes\n",
    "\n",
    "1. check time usage for multiplying list of million numbers by 2 between numpy and normal list\n",
    "2. create ndarrays (np.array, ndim, shape, dtype, zeros, ones, empty)\n",
    "3. checking datatype, casting datatype (int, float, string)\n",
    "4. do arithmetic with numpy arrays [+, - *, /, **, boolean(<, >, ==, <=, >=)]\n",
    "5. do slicing and indexing on numpy arrays (2-d, 3-d arrays), explcitly copy arrays\n",
    "6. indexing with slices"
   ]
  },
  {
   "cell_type": "code",
   "execution_count": 1,
   "id": "b7209140",
   "metadata": {},
   "outputs": [],
   "source": [
    "import numpy as np"
   ]
  },
  {
   "cell_type": "markdown",
   "id": "53db39b3",
   "metadata": {},
   "source": [
    "## Introduction"
   ]
  },
  {
   "cell_type": "code",
   "execution_count": 8,
   "id": "ab0cad60",
   "metadata": {},
   "outputs": [
    {
     "name": "stdout",
     "output_type": "stream",
     "text": [
      "[[  7.32613947  -3.25889746   8.66962338]\n",
      " [-15.31184347 -12.64345439  11.75299801]]\n",
      "[[ 1.46522789 -0.65177949  1.73392468]\n",
      " [-3.06236869 -2.52869088  2.3505996 ]]\n",
      "(2, 3) float64\n"
     ]
    }
   ],
   "source": [
    "# generate random numpy array of  shape (2,3)\n",
    "# multiply by 10, addition\n",
    "# check shape\n",
    "# check data type\n",
    "\n",
    "data = np.random.randn(2,3)\n",
    "print(data * 10)\n",
    "print(data + data)\n",
    "print(data.shape, data.dtype)"
   ]
  },
  {
   "cell_type": "markdown",
   "id": "04848e8d",
   "metadata": {},
   "source": [
    "## Creating ndarrays (n-dimensional arrays)\n",
    "\n",
    "generally, creating ndarrays takes in the:\n",
    "- no. of `rows`\n",
    "- no. of `columns`\n",
    "- no. of `\"matrixes\"` to create"
   ]
  },
  {
   "cell_type": "code",
   "execution_count": 9,
   "id": "f79a8e8a",
   "metadata": {},
   "outputs": [
    {
     "data": {
      "text/plain": [
       "array([6. , 7.5, 8. , 0. , 1. ])"
      ]
     },
     "execution_count": 9,
     "metadata": {},
     "output_type": "execute_result"
    }
   ],
   "source": [
    "# create ndarray from python list\n",
    "data1 = [6, 7.5, 8 , 0, 1]\n",
    "arr1 = np.array(data1)\n",
    "arr1"
   ]
  },
  {
   "cell_type": "code",
   "execution_count": 11,
   "id": "4515d78c",
   "metadata": {},
   "outputs": [
    {
     "data": {
      "text/plain": [
       "(array([[1, 2, 3, 4],\n",
       "        [5, 6, 7, 8]]),\n",
       " (2, 4))"
      ]
     },
     "execution_count": 11,
     "metadata": {},
     "output_type": "execute_result"
    }
   ],
   "source": [
    "# create ndarray from nested list, numpy interprets the shape\n",
    "data2 = [[1,2,3,4], [5,6,7,8]]\n",
    "arr2 = np.array(data2)\n",
    "arr2, arr2.shape"
   ]
  },
  {
   "cell_type": "code",
   "execution_count": 14,
   "id": "2411b807",
   "metadata": {},
   "outputs": [
    {
     "data": {
      "text/plain": [
       "array([[[0., 0., 0., 0.],\n",
       "        [0., 0., 0., 0.],\n",
       "        [0., 0., 0., 0.]],\n",
       "\n",
       "       [[0., 0., 0., 0.],\n",
       "        [0., 0., 0., 0.],\n",
       "        [0., 0., 0., 0.]]])"
      ]
     },
     "execution_count": 14,
     "metadata": {},
     "output_type": "execute_result"
    }
   ],
   "source": [
    "# create array of zeroes\n",
    "np.zeros((2,3,4))"
   ]
  },
  {
   "cell_type": "code",
   "execution_count": 17,
   "id": "2cfe779a",
   "metadata": {},
   "outputs": [
    {
     "data": {
      "text/plain": [
       "(array([1., 1., 1., 1., 1., 1., 1., 1., 1., 1.]),\n",
       " array([[1., 1., 1.],\n",
       "        [1., 1., 1.],\n",
       "        [1., 1., 1.],\n",
       "        [1., 1., 1.],\n",
       "        [1., 1., 1.],\n",
       "        [1., 1., 1.],\n",
       "        [1., 1., 1.],\n",
       "        [1., 1., 1.],\n",
       "        [1., 1., 1.],\n",
       "        [1., 1., 1.]]),\n",
       " array([[[1., 1.],\n",
       "         [1., 1.]]]))"
      ]
     },
     "execution_count": 17,
     "metadata": {},
     "output_type": "execute_result"
    }
   ],
   "source": [
    "# create array of ones\n",
    "np.ones(10), \\\n",
    "np.ones((10,3)) , \\\n",
    "np.ones((1,2,2))"
   ]
  },
  {
   "cell_type": "code",
   "execution_count": 22,
   "id": "6184f9c1",
   "metadata": {},
   "outputs": [
    {
     "data": {
      "text/plain": [
       "array([0, 1, 2, 3, 4, 5, 6, 7, 8, 9])"
      ]
     },
     "execution_count": 22,
     "metadata": {},
     "output_type": "execute_result"
    }
   ],
   "source": [
    "# create array of range using arange\n",
    "np.arange(10)"
   ]
  },
  {
   "cell_type": "code",
   "execution_count": 24,
   "id": "b9fb1c40",
   "metadata": {},
   "outputs": [
    {
     "data": {
      "text/plain": [
       "array([[9.48032341e-312, 6.27463370e-322],\n",
       "       [0.00000000e+000, 0.00000000e+000],\n",
       "       [7.56587583e-307, 5.30276956e+180],\n",
       "       [6.74640243e-067, 4.57399874e-071],\n",
       "       [4.46156275e-086, 3.35809400e-143],\n",
       "       [6.01433264e+175, 6.93885958e+218],\n",
       "       [5.56218858e+180, 3.94356143e+180],\n",
       "       [1.54673988e-075, 2.21549880e-056],\n",
       "       [1.25581128e-075, 8.30112254e-067],\n",
       "       [5.50622817e-144, 1.50008929e+248]])"
      ]
     },
     "execution_count": 24,
     "metadata": {},
     "output_type": "execute_result"
    }
   ],
   "source": [
    "# create empty ndarray\n",
    "np.empty((10,2))"
   ]
  },
  {
   "cell_type": "markdown",
   "id": "731b7cf8",
   "metadata": {},
   "source": [
    "## Data types for ndarrays"
   ]
  },
  {
   "cell_type": "code",
   "execution_count": 35,
   "id": "8315eecf",
   "metadata": {},
   "outputs": [],
   "source": [
    "# passing dtype as argument when creating ndarray\n",
    "arr1 = np.array([1,2,3], dtype=np.float64)"
   ]
  },
  {
   "cell_type": "code",
   "execution_count": 37,
   "id": "48e08c00",
   "metadata": {},
   "outputs": [
    {
     "data": {
      "text/plain": [
       "dtype('int32')"
      ]
     },
     "execution_count": 37,
     "metadata": {},
     "output_type": "execute_result"
    }
   ],
   "source": [
    "# inferring dtype\n",
    "arr2 = np.array([i for i in range(1,6)])\n",
    "arr2.dtype"
   ]
  },
  {
   "cell_type": "code",
   "execution_count": 39,
   "id": "57e2a4c8",
   "metadata": {},
   "outputs": [
    {
     "data": {
      "text/plain": [
       "array([1., 2., 3., 4., 5.])"
      ]
     },
     "execution_count": 39,
     "metadata": {},
     "output_type": "execute_result"
    }
   ],
   "source": [
    "# casting dtypes using astype\n",
    "arr2.astype(np.float64)"
   ]
  },
  {
   "cell_type": "code",
   "execution_count": 40,
   "id": "5d85bb3a",
   "metadata": {},
   "outputs": [
    {
     "data": {
      "text/plain": [
       "array([1., 2., 3., 4., 5.])"
      ]
     },
     "execution_count": 40,
     "metadata": {},
     "output_type": "execute_result"
    }
   ],
   "source": [
    "# casting dtypes using another arrays dtype\n",
    "arr2.astype(arr1.dtype)"
   ]
  },
  {
   "cell_type": "code",
   "execution_count": 42,
   "id": "17804e48",
   "metadata": {},
   "outputs": [
    {
     "data": {
      "text/plain": [
       "array([b'1', b'2', b'3', b'4', b'5'], dtype='|S11')"
      ]
     },
     "execution_count": 42,
     "metadata": {},
     "output_type": "execute_result"
    }
   ],
   "source": [
    "# converting to string type: becareful with this conversion due to truncation of values\n",
    "arr2.astype(np.string_)"
   ]
  },
  {
   "cell_type": "markdown",
   "id": "483272e7",
   "metadata": {},
   "source": [
    "## Arithmetic with numpy arrays\n",
    "\n",
    "ndarrays are useful because arithmetics can be done without for loops on each element"
   ]
  },
  {
   "cell_type": "code",
   "execution_count": 56,
   "id": "09f7f000",
   "metadata": {
    "collapsed": true
   },
   "outputs": [
    {
     "data": {
      "text/plain": [
       "array([[1, 2, 3],\n",
       "       [4, 5, 6]], dtype=int64)"
      ]
     },
     "execution_count": 56,
     "metadata": {},
     "output_type": "execute_result"
    }
   ],
   "source": [
    "arr1 = np.array([[1,2,3], [4,5,6]], dtype=np.int64)\n",
    "arr1"
   ]
  },
  {
   "cell_type": "code",
   "execution_count": 45,
   "id": "25749da8",
   "metadata": {
    "collapsed": true
   },
   "outputs": [
    {
     "data": {
      "text/plain": [
       "array([[0, 0, 0],\n",
       "       [0, 0, 0]])"
      ]
     },
     "execution_count": 45,
     "metadata": {},
     "output_type": "execute_result"
    }
   ],
   "source": [
    "arr1 - arr1"
   ]
  },
  {
   "cell_type": "code",
   "execution_count": 46,
   "id": "f496a0ac",
   "metadata": {
    "collapsed": true
   },
   "outputs": [
    {
     "data": {
      "text/plain": [
       "array([[ 2,  4,  6],\n",
       "       [ 8, 10, 12]])"
      ]
     },
     "execution_count": 46,
     "metadata": {},
     "output_type": "execute_result"
    }
   ],
   "source": [
    "arr1 * 2"
   ]
  },
  {
   "cell_type": "code",
   "execution_count": 49,
   "id": "53abd236",
   "metadata": {
    "collapsed": true
   },
   "outputs": [
    {
     "data": {
      "text/plain": [
       "array([[1.        , 0.5       , 0.33333333],\n",
       "       [0.25      , 0.2       , 0.16666667]])"
      ]
     },
     "execution_count": 49,
     "metadata": {},
     "output_type": "execute_result"
    }
   ],
   "source": [
    "1 / arr1"
   ]
  },
  {
   "cell_type": "code",
   "execution_count": 50,
   "id": "cae813f5",
   "metadata": {
    "collapsed": true
   },
   "outputs": [
    {
     "data": {
      "text/plain": [
       "array([[1.        , 1.41421356, 1.73205081],\n",
       "       [2.        , 2.23606798, 2.44948974]])"
      ]
     },
     "execution_count": 50,
     "metadata": {},
     "output_type": "execute_result"
    }
   ],
   "source": [
    "arr1 ** 0.5"
   ]
  },
  {
   "cell_type": "code",
   "execution_count": 60,
   "id": "9e77839b",
   "metadata": {
    "collapsed": true
   },
   "outputs": [],
   "source": [
    "arr2 = np.array([[1,3,3], [4,6,6]], dtype=np.float64)"
   ]
  },
  {
   "cell_type": "code",
   "execution_count": 62,
   "id": "eb871d26",
   "metadata": {
    "collapsed": true
   },
   "outputs": [
    {
     "data": {
      "text/plain": [
       "array([[ True, False,  True],\n",
       "       [ True, False,  True]])"
      ]
     },
     "execution_count": 62,
     "metadata": {},
     "output_type": "execute_result"
    }
   ],
   "source": [
    "# one thing to note here is the data type, int can be compared with float, numeric types cannot be compared with string types\n",
    "arr1 == arr2"
   ]
  },
  {
   "cell_type": "markdown",
   "id": "7c125d38",
   "metadata": {},
   "source": [
    "## Basic Indexing and slicing"
   ]
  },
  {
   "cell_type": "code",
   "execution_count": 67,
   "id": "c30e7898",
   "metadata": {},
   "outputs": [
    {
     "data": {
      "text/plain": [
       "array([ 0,  1,  2,  3,  4, 42, 42, 42,  8,  9])"
      ]
     },
     "execution_count": 67,
     "metadata": {},
     "output_type": "execute_result"
    }
   ],
   "source": [
    "arr = np.arange(10)\n",
    "# indexing\n",
    "arr[5]\n",
    "\n",
    "# slicing\n",
    "arr[5:8]\n",
    "\n",
    "# assigning values propagates array\n",
    "arr[5:8] = 42\n",
    "arr"
   ]
  },
  {
   "cell_type": "code",
   "execution_count": 77,
   "id": "ad33d311",
   "metadata": {},
   "outputs": [],
   "source": [
    "# numpy does not explicitly do a copy on its array\n",
    "arr_slice = arr[5:8]\n",
    "\n",
    "# assigning values mutates original array\n",
    "arr_slice = 42\n",
    "arr"
   ]
  },
  {
   "cell_type": "code",
   "execution_count": 78,
   "id": "714752fe",
   "metadata": {},
   "outputs": [
    {
     "data": {
      "text/plain": [
       "array([    0,     1,     2,     3,     4,    42, 12345,    42,     8,\n",
       "           9])"
      ]
     },
     "execution_count": 78,
     "metadata": {},
     "output_type": "execute_result"
    }
   ],
   "source": [
    "arr_slice[1] = 12345\n",
    "arr"
   ]
  },
  {
   "cell_type": "code",
   "execution_count": 80,
   "id": "cd341a12",
   "metadata": {},
   "outputs": [
    {
     "data": {
      "text/plain": [
       "3"
      ]
     },
     "execution_count": 80,
     "metadata": {},
     "output_type": "execute_result"
    }
   ],
   "source": [
    "# slicing 2d arrays\n",
    "arr2d = np.array([[1, 2, 3], [4, 5, 6], [7, 8, 9]])\n",
    "\n",
    "# easy to think of it as rows, columns\n",
    "# first row, third column\n",
    "arr2d[0, 2]\n",
    "arr2d[0][2]"
   ]
  },
  {
   "cell_type": "code",
   "execution_count": 96,
   "id": "3f25222c",
   "metadata": {},
   "outputs": [
    {
     "data": {
      "text/plain": [
       "array([[[ 1,  2,  3],\n",
       "        [ 4,  5,  6]],\n",
       "\n",
       "       [[ 7,  8,  9],\n",
       "        [10, 11, 12]]])"
      ]
     },
     "execution_count": 96,
     "metadata": {},
     "output_type": "execute_result"
    }
   ],
   "source": [
    "# slicing 3d arrays\n",
    "arr3d = np.array([[[1, 2, 3], [4, 5, 6]], [[7, 8, 9], [10, 11, 12]]])\n",
    "arr3d"
   ]
  },
  {
   "cell_type": "code",
   "execution_count": 90,
   "id": "20b6a8d0",
   "metadata": {},
   "outputs": [
    {
     "data": {
      "text/plain": [
       "array([4, 5, 6])"
      ]
     },
     "execution_count": 90,
     "metadata": {},
     "output_type": "execute_result"
    }
   ],
   "source": [
    "# first \"table\", row 1\n",
    "arr3d[0, 1]"
   ]
  },
  {
   "cell_type": "code",
   "execution_count": 97,
   "id": "cb7710f1",
   "metadata": {},
   "outputs": [
    {
     "data": {
      "text/plain": [
       "array([[[ 1,  2,  3],\n",
       "        [ 4,  5,  6]],\n",
       "\n",
       "       [[ 7,  8,  9],\n",
       "        [10, 11, 12]]])"
      ]
     },
     "execution_count": 97,
     "metadata": {},
     "output_type": "execute_result"
    }
   ],
   "source": [
    "# getting a copy of original values from 3d array\n",
    "old_values = arr3d[0].copy()\n",
    "arr3d[0] = 42\n",
    "arr3d[0] = old_values\n",
    "arr3d"
   ]
  },
  {
   "cell_type": "code",
   "execution_count": 100,
   "id": "b9bc07f1",
   "metadata": {},
   "outputs": [
    {
     "data": {
      "text/plain": [
       "array([7, 8, 9])"
      ]
     },
     "execution_count": 100,
     "metadata": {},
     "output_type": "execute_result"
    }
   ],
   "source": [
    "# 2nd \"table\", 1st row\n",
    "arr3d[1, 0]"
   ]
  },
  {
   "cell_type": "code",
   "execution_count": 101,
   "id": "edf61093",
   "metadata": {},
   "outputs": [
    {
     "data": {
      "text/plain": [
       "array([7, 8, 9])"
      ]
     },
     "execution_count": 101,
     "metadata": {},
     "output_type": "execute_result"
    }
   ],
   "source": [
    "# creating a view of 3d array, 2nd \"table\"\n",
    "x = arr3d[1]\n",
    "x[0] # view of 2nd table of first row of 3d array"
   ]
  },
  {
   "cell_type": "markdown",
   "id": "bc5a9d0f",
   "metadata": {},
   "source": [
    "## Indexing with slices"
   ]
  },
  {
   "cell_type": "code",
   "execution_count": 105,
   "id": "c81cfae7",
   "metadata": {},
   "outputs": [
    {
     "data": {
      "text/plain": [
       "array([1, 2, 3, 4, 5])"
      ]
     },
     "execution_count": 105,
     "metadata": {},
     "output_type": "execute_result"
    }
   ],
   "source": [
    "# slice 1d array to get elements indexing from 1 to 5\n",
    "arr = np.arange(10)\n",
    "arr[1:6]"
   ]
  },
  {
   "cell_type": "code",
   "execution_count": 114,
   "id": "6f8adb75",
   "metadata": {},
   "outputs": [
    {
     "data": {
      "text/plain": [
       "array([[1, 2, 3],\n",
       "       [4, 5, 6],\n",
       "       [7, 8, 9]])"
      ]
     },
     "execution_count": 114,
     "metadata": {},
     "output_type": "execute_result"
    }
   ],
   "source": [
    "arr2d"
   ]
  },
  {
   "cell_type": "code",
   "execution_count": 107,
   "id": "7e3906d5",
   "metadata": {},
   "outputs": [
    {
     "data": {
      "text/plain": [
       "array([[1, 2, 3],\n",
       "       [4, 5, 6]])"
      ]
     },
     "execution_count": 107,
     "metadata": {},
     "output_type": "execute_result"
    }
   ],
   "source": [
    "# slice 2d array to get up to 2nd row\n",
    "arr2d\n",
    "arr2d[:2]"
   ]
  },
  {
   "cell_type": "code",
   "execution_count": 108,
   "id": "28a7a5be",
   "metadata": {},
   "outputs": [
    {
     "data": {
      "text/plain": [
       "array([[2, 3],\n",
       "       [5, 6]])"
      ]
     },
     "execution_count": 108,
     "metadata": {},
     "output_type": "execute_result"
    }
   ],
   "source": [
    "# slice 2d array to get up to 2nd row, and 2nd column onwards\n",
    "arr2d[:2, 1:]"
   ]
  },
  {
   "cell_type": "code",
   "execution_count": 110,
   "id": "66151f27",
   "metadata": {},
   "outputs": [
    {
     "data": {
      "text/plain": [
       "array([4, 5])"
      ]
     },
     "execution_count": 110,
     "metadata": {},
     "output_type": "execute_result"
    }
   ],
   "source": [
    "# slice 2d array to get 2nd row, and up to 2nd column\n",
    "arr2d[1, :2]"
   ]
  },
  {
   "cell_type": "code",
   "execution_count": 111,
   "id": "18444225",
   "metadata": {},
   "outputs": [
    {
     "data": {
      "text/plain": [
       "array([3, 6])"
      ]
     },
     "execution_count": 111,
     "metadata": {},
     "output_type": "execute_result"
    }
   ],
   "source": [
    "# slice 2d array to get up to 2nd row, and 3rd column\n",
    "arr2d[:2, 2]"
   ]
  },
  {
   "cell_type": "code",
   "execution_count": 113,
   "id": "ad07f0fd",
   "metadata": {},
   "outputs": [
    {
     "data": {
      "text/plain": [
       "array([[1],\n",
       "       [4],\n",
       "       [7]])"
      ]
     },
     "execution_count": 113,
     "metadata": {},
     "output_type": "execute_result"
    }
   ],
   "source": [
    "# get all rows, up to first column\n",
    "arr2d[:, :1]"
   ]
  },
  {
   "cell_type": "code",
   "execution_count": 116,
   "id": "77f85e2a",
   "metadata": {},
   "outputs": [
    {
     "data": {
      "text/plain": [
       "array([[1, 0, 0],\n",
       "       [4, 0, 0],\n",
       "       [7, 8, 9]])"
      ]
     },
     "execution_count": 116,
     "metadata": {},
     "output_type": "execute_result"
    }
   ],
   "source": [
    "# assign values to a sliced view of up to 2nd row, 2nd column onwards\n",
    "arr2d[:2, 1:] = 0\n",
    "arr2d"
   ]
  },
  {
   "cell_type": "markdown",
   "id": "bbb91c87",
   "metadata": {},
   "source": [
    "## Boolean Indexing"
   ]
  },
  {
   "cell_type": "code",
   "execution_count": 138,
   "id": "15060366",
   "metadata": {},
   "outputs": [
    {
     "data": {
      "text/plain": [
       "array([[-0.42463581, -0.18134816,  0.63041968,  0.21258265],\n",
       "       [ 0.38212256, -0.83348734,  0.42088411, -0.54690572]])"
      ]
     },
     "execution_count": 138,
     "metadata": {},
     "output_type": "execute_result"
    }
   ],
   "source": [
    "# using a 1-d boolean array to index a 2d array\n",
    "# the 1-d boolean array shape should be the same as the shape of axis you are indexing\n",
    "# for e.g. each element in below names 1-d array will represent a row in the 2-d data array\n",
    "names = np.array(['Bob', 'Joe', 'Will', 'Bob', 'Will', 'Joe', 'Joe'])\n",
    "data = np.random.randn(7,4)\n",
    "\n",
    "# using names == 'Bob', it gives only rows 1 (0), and 4 (3) \n",
    "data[names == 'Bob']"
   ]
  },
  {
   "cell_type": "code",
   "execution_count": 121,
   "id": "220e05b0",
   "metadata": {},
   "outputs": [
    {
     "data": {
      "text/plain": [
       "array([[ 1.30573576, -0.88909004,  2.49942848,  0.05047768],\n",
       "       [-1.22975819,  0.9658055 , -0.7517069 ,  1.97226735],\n",
       "       [ 0.6990872 , -0.15195539,  0.44330737,  0.39206532],\n",
       "       [ 0.11028854, -1.53991342, -0.89928461,  0.25383515],\n",
       "       [ 0.23802579, -2.32678251,  1.06519825,  0.41867376],\n",
       "       [ 0.40257791,  1.98849158, -0.89028077, -0.2962391 ],\n",
       "       [ 0.33686579, -0.23039406,  0.77176592,  1.1677816 ]])"
      ]
     },
     "execution_count": 121,
     "metadata": {},
     "output_type": "execute_result"
    }
   ],
   "source": [
    "data"
   ]
  },
  {
   "cell_type": "code",
   "execution_count": 119,
   "id": "fc56b437",
   "metadata": {},
   "outputs": [
    {
     "data": {
      "text/plain": [
       "array([ True, False, False,  True, False, False, False])"
      ]
     },
     "execution_count": 119,
     "metadata": {},
     "output_type": "execute_result"
    }
   ],
   "source": [
    "names == 'Bob'"
   ]
  },
  {
   "cell_type": "code",
   "execution_count": 120,
   "id": "747e251e",
   "metadata": {},
   "outputs": [
    {
     "data": {
      "text/plain": [
       "array([[ 2.49942848,  0.05047768],\n",
       "       [-0.89928461,  0.25383515]])"
      ]
     },
     "execution_count": 120,
     "metadata": {},
     "output_type": "execute_result"
    }
   ],
   "source": [
    "# boolean indexing rows, get from column 3 onwards\n",
    "data[names == 'Bob', 2:]"
   ]
  },
  {
   "cell_type": "code",
   "execution_count": 122,
   "id": "15f60a6b",
   "metadata": {},
   "outputs": [
    {
     "data": {
      "text/plain": [
       "array([0.05047768, 0.25383515])"
      ]
     },
     "execution_count": 122,
     "metadata": {},
     "output_type": "execute_result"
    }
   ],
   "source": [
    "# boolean indexing rows, get column 4\n",
    "data[names == 'Bob', 3]"
   ]
  },
  {
   "cell_type": "code",
   "execution_count": 123,
   "id": "d875f8b0",
   "metadata": {},
   "outputs": [
    {
     "name": "stdout",
     "output_type": "stream",
     "text": [
      "[False  True  True False  True  True  True]\n"
     ]
    },
    {
     "data": {
      "text/plain": [
       "array([[-1.22975819,  0.9658055 , -0.7517069 ,  1.97226735],\n",
       "       [ 0.6990872 , -0.15195539,  0.44330737,  0.39206532],\n",
       "       [ 0.23802579, -2.32678251,  1.06519825,  0.41867376],\n",
       "       [ 0.40257791,  1.98849158, -0.89028077, -0.2962391 ],\n",
       "       [ 0.33686579, -0.23039406,  0.77176592,  1.1677816 ]])"
      ]
     },
     "execution_count": 123,
     "metadata": {},
     "output_type": "execute_result"
    }
   ],
   "source": [
    "# negate using !=, ~\n",
    "print(names != 'Bob')\n",
    "data[names != 'Bob']"
   ]
  },
  {
   "cell_type": "code",
   "execution_count": 125,
   "id": "810837ea",
   "metadata": {},
   "outputs": [
    {
     "data": {
      "text/plain": [
       "array([[-1.22975819,  0.9658055 , -0.7517069 ,  1.97226735],\n",
       "       [ 0.6990872 , -0.15195539,  0.44330737,  0.39206532],\n",
       "       [ 0.23802579, -2.32678251,  1.06519825,  0.41867376],\n",
       "       [ 0.40257791,  1.98849158, -0.89028077, -0.2962391 ],\n",
       "       [ 0.33686579, -0.23039406,  0.77176592,  1.1677816 ]])"
      ]
     },
     "execution_count": 125,
     "metadata": {},
     "output_type": "execute_result"
    }
   ],
   "source": [
    "data[~(names == 'Bob')]"
   ]
  },
  {
   "cell_type": "code",
   "execution_count": 127,
   "id": "83ce2321",
   "metadata": {},
   "outputs": [
    {
     "data": {
      "text/plain": [
       "array([[-1.22975819,  0.9658055 , -0.7517069 ,  1.97226735],\n",
       "       [ 0.6990872 , -0.15195539,  0.44330737,  0.39206532],\n",
       "       [ 0.23802579, -2.32678251,  1.06519825,  0.41867376],\n",
       "       [ 0.40257791,  1.98849158, -0.89028077, -0.2962391 ],\n",
       "       [ 0.33686579, -0.23039406,  0.77176592,  1.1677816 ]])"
      ]
     },
     "execution_count": 127,
     "metadata": {},
     "output_type": "execute_result"
    }
   ],
   "source": [
    "# creating a 'filter' using a variable\n",
    "cond = names == 'Bob'\n",
    "data[~cond]"
   ]
  },
  {
   "cell_type": "code",
   "execution_count": 129,
   "id": "65a5801a",
   "metadata": {},
   "outputs": [
    {
     "data": {
      "text/plain": [
       "array([[ 1.30573576, -0.88909004,  2.49942848,  0.05047768],\n",
       "       [ 0.6990872 , -0.15195539,  0.44330737,  0.39206532],\n",
       "       [ 0.11028854, -1.53991342, -0.89928461,  0.25383515],\n",
       "       [ 0.23802579, -2.32678251,  1.06519825,  0.41867376]])"
      ]
     },
     "execution_count": 129,
     "metadata": {},
     "output_type": "execute_result"
    }
   ],
   "source": [
    "# and, or in filters\n",
    "mask = (names == 'Bob') | (names == 'Will')\n",
    "data[mask]"
   ]
  },
  {
   "cell_type": "code",
   "execution_count": 132,
   "id": "f48f2a61",
   "metadata": {},
   "outputs": [
    {
     "data": {
      "text/plain": [
       "array([[1.30573576, 0.        , 2.49942848, 0.05047768],\n",
       "       [0.        , 0.9658055 , 0.        , 1.97226735],\n",
       "       [0.6990872 , 0.        , 0.44330737, 0.39206532],\n",
       "       [0.11028854, 0.        , 0.        , 0.25383515],\n",
       "       [0.23802579, 0.        , 1.06519825, 0.41867376],\n",
       "       [0.40257791, 1.98849158, 0.        , 0.        ],\n",
       "       [0.33686579, 0.        , 0.77176592, 1.1677816 ]])"
      ]
     },
     "execution_count": 132,
     "metadata": {},
     "output_type": "execute_result"
    }
   ],
   "source": [
    "# using 2-d arrays to boolean index 2-d arrays and assigning values\n",
    "data[data < 0] = 0\n",
    "data"
   ]
  },
  {
   "cell_type": "code",
   "execution_count": 139,
   "id": "b273939f",
   "metadata": {},
   "outputs": [
    {
     "data": {
      "text/plain": [
       "array([[ 7.        ,  7.        ,  7.        ,  7.        ],\n",
       "       [ 0.30666845, -1.54223474, -0.12703713,  0.59766009],\n",
       "       [ 7.        ,  7.        ,  7.        ,  7.        ],\n",
       "       [ 7.        ,  7.        ,  7.        ,  7.        ],\n",
       "       [ 7.        ,  7.        ,  7.        ,  7.        ],\n",
       "       [ 0.8266089 ,  0.07233187,  2.13627856,  2.21138349],\n",
       "       [ 0.4419279 , -0.12498884,  0.57992766,  0.07536175]])"
      ]
     },
     "execution_count": 139,
     "metadata": {},
     "output_type": "execute_result"
    }
   ],
   "source": [
    "# using boolean 1-d array to boolean index 2-d arrays and assigning values\n",
    "data[names != 'Joe'] = 7\n",
    "data"
   ]
  },
  {
   "cell_type": "code",
   "execution_count": null,
   "id": "9cb0ae73",
   "metadata": {},
   "outputs": [],
   "source": []
  }
 ],
 "metadata": {
  "kernelspec": {
   "display_name": "Python 3",
   "language": "python",
   "name": "python3"
  },
  "language_info": {
   "codemirror_mode": {
    "name": "ipython",
    "version": 3
   },
   "file_extension": ".py",
   "mimetype": "text/x-python",
   "name": "python",
   "nbconvert_exporter": "python",
   "pygments_lexer": "ipython3",
   "version": "3.8.8"
  }
 },
 "nbformat": 4,
 "nbformat_minor": 5
}
