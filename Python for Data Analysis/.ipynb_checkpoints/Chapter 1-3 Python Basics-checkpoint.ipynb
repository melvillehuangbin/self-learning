{
 "cells": [
  {
   "cell_type": "markdown",
   "id": "1891e4fc",
   "metadata": {},
   "source": [
    "This are some code snippets from the book `Python for Data Analysis`, for me to brush up on my Python and **further expand on my knowledge**"
   ]
  },
  {
   "cell_type": "markdown",
   "id": "51f9ed2e",
   "metadata": {},
   "source": [
    "# IPython Basics"
   ]
  },
  {
   "cell_type": "code",
   "execution_count": 1,
   "id": "36f1d3c7",
   "metadata": {},
   "outputs": [],
   "source": [
    "b = [1,2,3]"
   ]
  },
  {
   "cell_type": "markdown",
   "id": "b028472c",
   "metadata": {},
   "source": [
    "- using `?` will display information of the python object\n",
    "- `??` displays source code of function"
   ]
  },
  {
   "cell_type": "code",
   "execution_count": 4,
   "id": "06e057c4",
   "metadata": {},
   "outputs": [],
   "source": [
    "b?"
   ]
  },
  {
   "cell_type": "code",
   "execution_count": 5,
   "id": "96cee2c4",
   "metadata": {},
   "outputs": [],
   "source": [
    "def f(x,y,z):\n",
    "    return x+y+z"
   ]
  },
  {
   "cell_type": "code",
   "execution_count": 6,
   "id": "628ff68c",
   "metadata": {},
   "outputs": [],
   "source": [
    "f??"
   ]
  },
  {
   "cell_type": "markdown",
   "id": "7a999499",
   "metadata": {},
   "source": [
    "## Python Language Basics"
   ]
  },
  {
   "cell_type": "markdown",
   "id": "be73bc4a",
   "metadata": {},
   "source": [
    "## String formatting"
   ]
  },
  {
   "cell_type": "code",
   "execution_count": 10,
   "id": "31c61da1",
   "metadata": {},
   "outputs": [
    {
     "data": {
      "text/plain": [
       "'1.35, test with string test and decimal 4'"
      ]
     },
     "execution_count": 10,
     "metadata": {},
     "output_type": "execute_result"
    }
   ],
   "source": [
    "# 0:.2f - 1st argument as float in 2dp\n",
    "# 1:s - 2nd argument as string\n",
    "# 2:d -3rd argument as integer\n",
    "template = '{0:.2f}, test with string {1:s} and decimal {2:d}'\n",
    "template.format(1.3452123123, 'test', 4)"
   ]
  },
  {
   "cell_type": "markdown",
   "id": "dd84dfa2",
   "metadata": {},
   "source": [
    "## Ternary Expression\n",
    "ternary expressions allows for if-else block in single liners"
   ]
  },
  {
   "cell_type": "code",
   "execution_count": 12,
   "id": "b2b6e654",
   "metadata": {},
   "outputs": [
    {
     "data": {
      "text/plain": [
       "'None'"
      ]
     },
     "execution_count": 12,
     "metadata": {},
     "output_type": "execute_result"
    }
   ],
   "source": [
    "x = 2\n",
    "'Nothing Else' if x == 1 else 'None'"
   ]
  },
  {
   "cell_type": "markdown",
   "id": "54edfe83",
   "metadata": {},
   "source": [
    "## Tuples\n",
    "immutable objects in python"
   ]
  },
  {
   "cell_type": "code",
   "execution_count": 14,
   "id": "28900b30",
   "metadata": {},
   "outputs": [
    {
     "data": {
      "text/plain": [
       "('t', 'u', 'p', 'l', 'e', ' ', 'r', 'o', 'c', 'k', 's')"
      ]
     },
     "execution_count": 14,
     "metadata": {},
     "output_type": "execute_result"
    }
   ],
   "source": [
    "# example: converting string to tuple\n",
    "test_string = 'tuple rocks'\n",
    "tuple(test_string)"
   ]
  },
  {
   "cell_type": "code",
   "execution_count": 17,
   "id": "e5fdd804",
   "metadata": {},
   "outputs": [
    {
     "data": {
      "text/plain": [
       "4"
      ]
     },
     "execution_count": 17,
     "metadata": {},
     "output_type": "execute_result"
    }
   ],
   "source": [
    "# unpacking tuples: possible to assign variables to each element in tuple\n",
    "tup = (4,5,6)\n",
    "a, b, c = tup\n",
    "a"
   ]
  },
  {
   "cell_type": "code",
   "execution_count": 20,
   "id": "9e8c27e9",
   "metadata": {},
   "outputs": [
    {
     "name": "stdout",
     "output_type": "stream",
     "text": [
      "before swap a=1, b=2\n",
      "after swap a=2, b=1\n"
     ]
    }
   ],
   "source": [
    "# value swap between variables is done using tuples\n",
    "a = 1\n",
    "b = 2\n",
    "print('before swap a={0}, b={1}'.format(a,b))\n",
    "b,a = a,b\n",
    "print('after swap a={0}, b={1}'.format(a,b))"
   ]
  },
  {
   "cell_type": "code",
   "execution_count": 21,
   "id": "2aa5a222",
   "metadata": {},
   "outputs": [
    {
     "name": "stdout",
     "output_type": "stream",
     "text": [
      "a=1, b=2, c=3\n",
      "a=4, b=5, c=6\n",
      "a=7, b=8, c=9\n"
     ]
    }
   ],
   "source": [
    "# iterating and unpacking over sequences\n",
    "seq = [(1,2,3), (4,5,6), (7,8,9)]\n",
    "for a,b,c in seq:\n",
    "    print('a={0}, b={1}, c={2}'.format(a,b,c))"
   ]
  },
  {
   "cell_type": "code",
   "execution_count": 29,
   "id": "434443df",
   "metadata": {},
   "outputs": [
    {
     "name": "stdout",
     "output_type": "stream",
     "text": [
      "1 2 [3, 4, 5]\n"
     ]
    }
   ],
   "source": [
    "# using *_ to unpack rest of the values in a tuple, _ will then be a list of the rest of the values of the tuple\n",
    "tup = 1,2,3,4,5\n",
    "a, b, *_ = tup\n",
    "print(a,b,_)"
   ]
  },
  {
   "cell_type": "markdown",
   "id": "72a382de",
   "metadata": {},
   "source": [
    "## Lists"
   ]
  },
  {
   "cell_type": "code",
   "execution_count": 31,
   "id": "c47b7fd6",
   "metadata": {},
   "outputs": [
    {
     "name": "stdout",
     "output_type": "stream",
     "text": [
      "0: a=test, b=1\n",
      "1: a=test, b=2\n",
      "2: a=test, b=3\n"
     ]
    }
   ],
   "source": [
    "# using zip with enumerate\n",
    "list_1 = ['test', 'test', 'test']\n",
    "list_2 = [1, 2, 3]\n",
    "for i, (a,b) in enumerate(zip(list_1, list_2)):\n",
    "    print('{0}: a={1}, b={2}'.format(i, a, b))"
   ]
  },
  {
   "cell_type": "code",
   "execution_count": 32,
   "id": "cea08dad",
   "metadata": {},
   "outputs": [
    {
     "data": {
      "text/plain": [
       "[('test', 1), ('test', 2), ('test', 3)]"
      ]
     },
     "execution_count": 32,
     "metadata": {},
     "output_type": "execute_result"
    }
   ],
   "source": [
    "list(zip(list_1, list_2))"
   ]
  },
  {
   "cell_type": "code",
   "execution_count": null,
   "id": "eb3817c9",
   "metadata": {},
   "outputs": [],
   "source": []
  }
 ],
 "metadata": {
  "kernelspec": {
   "display_name": "Python 3",
   "language": "python",
   "name": "python3"
  },
  "language_info": {
   "codemirror_mode": {
    "name": "ipython",
    "version": 3
   },
   "file_extension": ".py",
   "mimetype": "text/x-python",
   "name": "python",
   "nbconvert_exporter": "python",
   "pygments_lexer": "ipython3",
   "version": "3.8.8"
  }
 },
 "nbformat": 4,
 "nbformat_minor": 5
}
